{
  "cells": [
    {
      "cell_type": "markdown",
      "metadata": {
        "id": "view-in-github",
        "colab_type": "text"
      },
      "source": [
        "<a href=\"https://colab.research.google.com/github/omid-sakaki-ghazvini/Practices/blob/main/used_Car_prices.ipynb\" target=\"_parent\"><img src=\"https://colab.research.google.com/assets/colab-badge.svg\" alt=\"Open In Colab\"/></a>"
      ]
    },
    {
      "cell_type": "markdown",
      "id": "085b3923",
      "metadata": {
        "id": "085b3923"
      },
      "source": [
        "# 1. Install Dependencies and Setup"
      ]
    },
    {
      "cell_type": "markdown",
      "id": "e46cc135",
      "metadata": {
        "id": "e46cc135"
      },
      "source": [
        "<div style=\"direction:rtl\">\n",
        "<font color='green' size=\"5px\">\n",
        " کتابخانه های مورد نیاز را نصب میکنیم\n",
        "    </font>\n",
        "</div>"
      ]
    },
    {
      "cell_type": "code",
      "execution_count": null,
      "id": "6d7f662c",
      "metadata": {
        "id": "6d7f662c"
      },
      "outputs": [],
      "source": [
        "#Data Analysis\n",
        "import pandas as pd\n",
        "import numpy as np\n",
        "import matplotlib.pyplot as plt\n",
        "import seaborn as sns\n",
        "\n",
        "#preprocessing\n",
        "from sklearn.utils import shuffle\n",
        "from sklearn.model_selection import train_test_split\n",
        "from sklearn.preprocessing import LabelEncoder, MinMaxScaler\n",
        "\n",
        "#models\n",
        "import tensorflow as tf\n",
        "from tensorflow import keras"
      ]
    },
    {
      "cell_type": "markdown",
      "id": "fd3a50f9",
      "metadata": {
        "id": "fd3a50f9"
      },
      "source": [
        "<div style=\"direction:rtl\">\n",
        "<font color='green' size=\"5px\">\n",
        " از لینک زیر دیتاست را دانلود کرده و در پوشه هم مسیر همین ژوپیتر نوت بوک قرار دهید\n",
        "    </font>\n",
        "</div>"
      ]
    },
    {
      "cell_type": "markdown",
      "id": "def1ee54",
      "metadata": {
        "id": "def1ee54"
      },
      "source": [
        "## https://www.kaggle.com/datasets/taeefnajib/used-car-price-prediction-dataset"
      ]
    },
    {
      "cell_type": "markdown",
      "id": "3b01a837",
      "metadata": {
        "id": "3b01a837"
      },
      "source": [
        "# 2. Load Data"
      ]
    },
    {
      "cell_type": "markdown",
      "id": "8fb2e15f",
      "metadata": {
        "id": "8fb2e15f"
      },
      "source": [
        "<div style=\"direction:rtl\">\n",
        "<font color='green' size=\"5px\">\n",
        "توسط خط فرمان زیر، دیتا را فراخوانی میکنیم\n",
        "    </font>\n",
        "</div>"
      ]
    },
    {
      "cell_type": "code",
      "execution_count": null,
      "id": "f0bdded7",
      "metadata": {
        "id": "f0bdded7"
      },
      "outputs": [],
      "source": [
        "df=pd.read_csv('/kaggle/input/playground-series-s4e9/train.csv')\n",
        "df.head(10)"
      ]
    },
    {
      "cell_type": "code",
      "execution_count": null,
      "id": "04f19902",
      "metadata": {
        "id": "04f19902"
      },
      "outputs": [],
      "source": [
        "df.info()"
      ]
    },
    {
      "cell_type": "code",
      "execution_count": null,
      "id": "f2d848f1",
      "metadata": {
        "id": "f2d848f1"
      },
      "outputs": [],
      "source": [
        "df.describe()"
      ]
    },
    {
      "cell_type": "markdown",
      "id": "986f48f2",
      "metadata": {
        "id": "986f48f2"
      },
      "source": [
        "# 3.Data preparation"
      ]
    },
    {
      "cell_type": "code",
      "execution_count": null,
      "id": "e3881501",
      "metadata": {
        "id": "e3881501"
      },
      "outputs": [],
      "source": [
        "missing_values_count = df.isnull().sum()\n",
        "missing_values_count"
      ]
    },
    {
      "cell_type": "code",
      "execution_count": null,
      "id": "1d483436",
      "metadata": {
        "id": "1d483436"
      },
      "outputs": [],
      "source": [
        "total_cells = np.product(df.shape)\n",
        "total_missing = missing_values_count.sum()\n",
        "\n",
        "percent_missing = (total_missing/total_cells) * 100\n",
        "print(percent_missing)"
      ]
    },
    {
      "cell_type": "code",
      "execution_count": null,
      "id": "b866cb72",
      "metadata": {
        "id": "b866cb72"
      },
      "outputs": [],
      "source": [
        "df.dropna(subset=['fuel_type','accident','clean_title'],inplace=True)"
      ]
    },
    {
      "cell_type": "code",
      "execution_count": null,
      "id": "ba575b1f",
      "metadata": {
        "id": "ba575b1f"
      },
      "outputs": [],
      "source": [
        "missing_values_count = df.isnull().sum()\n",
        "missing_values_count"
      ]
    },
    {
      "cell_type": "code",
      "execution_count": null,
      "id": "78c6dbe3",
      "metadata": {
        "id": "78c6dbe3"
      },
      "outputs": [],
      "source": [
        "def remove_outliers(df, column):\n",
        "    Q1 = df[column].quantile(0.25)\n",
        "    Q3 = df[column].quantile(0.75)\n",
        "    IQR = Q3 - Q1\n",
        "    lower_bound = Q1 - 1.5 * IQR\n",
        "    upper_bound = Q3 + 1.5 * IQR\n",
        "    df_out = df[(df[column] >= lower_bound) & (df[column] <= upper_bound)]\n",
        "    return df_out\n",
        "\n",
        "df = remove_outliers(df, 'milage')\n",
        "df = remove_outliers(df, 'price')\n",
        "df.reset_index(drop=True, inplace=True)"
      ]
    },
    {
      "cell_type": "code",
      "execution_count": null,
      "id": "93f7b8b0",
      "metadata": {
        "id": "93f7b8b0"
      },
      "outputs": [],
      "source": [
        "encoder=LabelEncoder()\n",
        "df['brand']=encoder.fit_transform(df['brand'])\n",
        "df['model']=encoder.fit_transform(df['model'])\n",
        "df['fuel_type']=encoder.fit_transform(df['fuel_type'])\n",
        "df['engine']=encoder.fit_transform(df['engine'])\n",
        "df['transmission']=encoder.fit_transform(df['transmission'])\n",
        "df['ext_col']=encoder.fit_transform(df['ext_col'])\n",
        "df['int_col']=encoder.fit_transform(df['int_col'])\n",
        "df['accident']=encoder.fit_transform(df['accident'])\n",
        "df['clean_title']=encoder.fit_transform(df['clean_title'])"
      ]
    },
    {
      "cell_type": "markdown",
      "id": "0bc6f22c",
      "metadata": {
        "id": "0bc6f22c"
      },
      "source": [
        "# 4. Split & Scale Data"
      ]
    },
    {
      "cell_type": "markdown",
      "id": "665ba2f4",
      "metadata": {
        "id": "665ba2f4"
      },
      "source": [
        "<div style=\"direction:rtl\">\n",
        "<font color='green' size=\"5px\">\n",
        " نرمالسازی دیتا\n",
        "    </font>\n",
        "</div>"
      ]
    },
    {
      "cell_type": "code",
      "execution_count": null,
      "id": "9c160802",
      "metadata": {
        "id": "9c160802"
      },
      "outputs": [],
      "source": [
        "shuffled_data = shuffle(df, random_state = 100)"
      ]
    },
    {
      "cell_type": "code",
      "execution_count": null,
      "id": "55a5f378",
      "metadata": {
        "id": "55a5f378"
      },
      "outputs": [],
      "source": [
        "X=shuffled_data.drop(columns={'id','price'})\n",
        "y=shuffled_data.price"
      ]
    },
    {
      "cell_type": "code",
      "execution_count": null,
      "id": "37b8a1d4",
      "metadata": {
        "id": "37b8a1d4"
      },
      "outputs": [],
      "source": [
        "X_train, X_test, y_train, y_test = train_test_split(X, y, test_size=0.2)\n",
        "\n",
        "print(\"The size of the input train data is: {}\".format(X_train.shape))\n",
        "print(\"The size of the output train data is: {}\".format(y_train.shape))\n",
        "print(\"The size of the input test data is: {}\".format(X_test.shape))\n",
        "print(\"The size of the output test data is: {}\".format(y_test.shape))"
      ]
    },
    {
      "cell_type": "code",
      "execution_count": null,
      "id": "f01d7d91",
      "metadata": {
        "id": "f01d7d91"
      },
      "outputs": [],
      "source": [
        "scaler = MinMaxScaler()\n",
        "scaler.fit(X_train)\n",
        "X_train_new = scaler.transform(X_train)\n",
        "X_test_new = scaler.transform(X_test)"
      ]
    },
    {
      "cell_type": "markdown",
      "id": "4c920ee5",
      "metadata": {
        "id": "4c920ee5"
      },
      "source": [
        "# 5. Build Models"
      ]
    },
    {
      "cell_type": "code",
      "execution_count": null,
      "id": "db5d4c07",
      "metadata": {
        "id": "db5d4c07"
      },
      "outputs": [],
      "source": [
        "print(X_train_new.shape)\n",
        "print(X_train_new[0].shape)\n",
        "print(X_train_new[0])"
      ]
    },
    {
      "cell_type": "code",
      "execution_count": null,
      "id": "94328bd9",
      "metadata": {
        "id": "94328bd9"
      },
      "outputs": [],
      "source": [
        "sample_size = X_train_new.shape[0] # number of samples in train set\n",
        "time_steps  = X_train_new.shape[1] # number of features in train set\n",
        "input_dimension = 1               # each feature is represented by 1 number\n",
        "\n",
        "train_data_reshaped = X_train_new.reshape(sample_size,time_steps,input_dimension)\n",
        "print(\"After reshape train data set shape:\\n\", train_data_reshaped.shape)\n",
        "print(\"1 Sample shape:\\n\",train_data_reshaped[0].shape)\n",
        "print(\"An example sample:\\n\", train_data_reshaped[0])"
      ]
    },
    {
      "cell_type": "code",
      "execution_count": null,
      "id": "5ed1cf7c",
      "metadata": {
        "id": "5ed1cf7c"
      },
      "outputs": [],
      "source": [
        "def build_conv1D_model():\n",
        "\n",
        "    n_timesteps = train_data_reshaped.shape[1]\n",
        "    n_features  = train_data_reshaped.shape[2]\n",
        "\n",
        "    model = keras.Sequential(name=\"model_conv1D\")\n",
        "    model.add(keras.layers.Input(shape=(n_timesteps,n_features)))\n",
        "    model.add(keras.layers.Conv1D(filters=128, kernel_size=7, activation='relu', name=\"Conv1D_1\"))\n",
        "    model.add(keras.layers.Dropout(0.5))\n",
        "    model.add(keras.layers.Conv1D(filters=64, kernel_size=3, activation='relu', name=\"Conv1D_2\"))\n",
        "    model.add(keras.layers.Conv1D(filters=32, kernel_size=2, activation='relu', name=\"Conv1D_3\"))\n",
        "    model.add(keras.layers.MaxPooling1D(pool_size=2, name=\"MaxPooling1D\"))\n",
        "    model.add(keras.layers.Flatten())\n",
        "    model.add(keras.layers.Dense(32, activation='relu', name=\"Dense_1\"))\n",
        "    model.add(keras.layers.Dense(n_features, name=\"Dense_2\"))\n",
        "\n",
        "\n",
        "    optimizer = tf.keras.optimizers.RMSprop(0.001)\n",
        "\n",
        "    model.compile(loss=\"mean_squared_error\",metrics=[tf.keras.metrics.RootMeanSquaredError()])\n",
        "    return model\n",
        "\n",
        "model_conv1D = build_conv1D_model()\n",
        "model_conv1D.summary()"
      ]
    },
    {
      "cell_type": "code",
      "execution_count": null,
      "id": "5a79309f",
      "metadata": {
        "id": "5a79309f"
      },
      "outputs": [],
      "source": [
        "Model: \"model_conv1D\""
      ]
    },
    {
      "cell_type": "code",
      "execution_count": null,
      "id": "a7abdb33",
      "metadata": {
        "id": "a7abdb33"
      },
      "outputs": [],
      "source": [
        "history = model_conv1D.fit(train_data_reshaped, y_train, epochs=500, validation_split=0.2, verbose=1)"
      ]
    },
    {
      "cell_type": "code",
      "execution_count": null,
      "id": "75dc3385",
      "metadata": {
        "id": "75dc3385"
      },
      "outputs": [],
      "source": [
        "plt.figure()\n",
        "plt.xlabel('Epoch')\n",
        "plt.ylabel('Root Mean Squared Error')\n",
        "plt.plot(history.epoch, np.array(history.history['root_mean_squared_error']), label='Train')\n",
        "plt.plot(history.epoch, np.array(history.history['val_root_mean_squared_error']),label = 'Val')\n",
        "plt.legend()"
      ]
    },
    {
      "cell_type": "markdown",
      "id": "0b59f0f6",
      "metadata": {
        "id": "0b59f0f6"
      },
      "source": [
        "# 6.Result"
      ]
    },
    {
      "cell_type": "code",
      "execution_count": null,
      "id": "7aabade8",
      "metadata": {
        "id": "7aabade8"
      },
      "outputs": [],
      "source": [
        "sample_size = X_test_new.shape[0] # number of samples in train set\n",
        "time_steps  = X_test_new.shape[1] # number of features in train set\n",
        "input_dimension = 1               # each feature is represented by 1 number\n",
        "\n",
        "test_data_reshaped = X_test_new.reshape(sample_size,time_steps,input_dimension)\n",
        "print(\"After reshape test data set shape:\\n\", test_data_reshaped.shape)\n",
        "print(\"1 Sample shape:\\n\",test_data_reshaped[0].shape)\n",
        "print(\"An example sample:\\n\", test_data_reshaped[0])"
      ]
    },
    {
      "cell_type": "code",
      "execution_count": null,
      "id": "8b7dca4c",
      "metadata": {
        "id": "8b7dca4c"
      },
      "outputs": [],
      "source": [
        "y_predict = model_conv1D.predict(X_test_new)\n",
        "y_predict = pd.DataFrame(y_predict, columns = ['Predicted price'])\n",
        "results = pd.concat([y_predict, y_test.to_frame().reset_index(drop = True)], axis = 1, ignore_index = False)\n",
        "results.head()\n",
        "print(results.head(),'\\n')\n",
        "\n",
        "[loss, root_mean_squared_error] = model_conv1D.evaluate(test_data_reshaped, y_test, verbose=0)\n",
        "print(\"Testing set RMSE: \", root_mean_squared_error)"
      ]
    },
    {
      "cell_type": "code",
      "execution_count": null,
      "id": "94b451f5",
      "metadata": {
        "id": "94b451f5"
      },
      "outputs": [],
      "source": [
        "plt.figure(figsize = (10, 10))\n",
        "sns.regplot(data = results, y = 'Predicted price', x = 'price',\n",
        "            scatter_kws = {\"color\": \"black\", \"alpha\": 0.5},\n",
        "            line_kws = {\"color\": \"red\"},\n",
        "            ci = 99)\n",
        "plt.title(\"Comparision of predicted values and the actual values\", fontsize = 20)\n",
        "plt.show()"
      ]
    },
    {
      "cell_type": "code",
      "execution_count": null,
      "id": "2b7115d5",
      "metadata": {
        "id": "2b7115d5"
      },
      "outputs": [],
      "source": [
        "df_test=pd.read_csv('/kaggle/input/playground-series-s4e9/test.csv')\n",
        "df_test.head(10)"
      ]
    },
    {
      "cell_type": "code",
      "execution_count": null,
      "id": "fd681ae3",
      "metadata": {
        "id": "fd681ae3"
      },
      "outputs": [],
      "source": [
        "encoder=LabelEncoder()\n",
        "df_test['brand']=encoder.fit_transform(df_test['brand'])\n",
        "df_test['model']=encoder.fit_transform(df_test['model'])\n",
        "df_test['fuel_type']=encoder.fit_transform(df_test['fuel_type'])\n",
        "df_test['engine']=encoder.fit_transform(df_test['engine'])\n",
        "df_test['transmission']=encoder.fit_transform(df_test['transmission'])\n",
        "df_test['ext_col']=encoder.fit_transform(df_test['ext_col'])\n",
        "df_test['int_col']=encoder.fit_transform(df_test['int_col'])\n",
        "df_test['accident']=encoder.fit_transform(df_test['accident'])\n",
        "df_test['clean_title']=encoder.fit_transform(df_test['clean_title'])"
      ]
    },
    {
      "cell_type": "code",
      "execution_count": null,
      "id": "1c433498",
      "metadata": {
        "id": "1c433498"
      },
      "outputs": [],
      "source": [
        "X=df_test.drop(columns={'id'})\n",
        "\n",
        "scaler = MinMaxScaler()\n",
        "scaler.fit(X)\n",
        "X = scaler.transform(X)\n",
        "\n",
        "y_pred = model_conv1D.predict(X)"
      ]
    },
    {
      "cell_type": "code",
      "execution_count": null,
      "id": "35cb6e99",
      "metadata": {
        "id": "35cb6e99"
      },
      "outputs": [],
      "source": [
        "df_target = pd.read_csv('/kaggle/input/playground-series-s4e9/sample_submission.csv')\n",
        "df_target.head()"
      ]
    },
    {
      "cell_type": "code",
      "execution_count": null,
      "id": "f4bff6c9",
      "metadata": {
        "id": "f4bff6c9"
      },
      "outputs": [],
      "source": [
        "test_preds_final = y_pred.copy()\n",
        "submission_file = df_test.reset_index()[['id']]\n",
        "submission_file['Predicted price'] = test_preds_final\n",
        "submission_file = submission_file.set_index(\"id\")\n",
        "submission_file"
      ]
    },
    {
      "cell_type": "code",
      "execution_count": null,
      "id": "0325d5ce",
      "metadata": {
        "id": "0325d5ce"
      },
      "outputs": [],
      "source": [
        "submission_file.to_csv(\"/kaggle/working/submission.csv\")"
      ]
    }
  ],
  "metadata": {
    "kernelspec": {
      "display_name": "Python 3 (ipykernel)",
      "language": "python",
      "name": "python3"
    },
    "language_info": {
      "codemirror_mode": {
        "name": "ipython",
        "version": 3
      },
      "file_extension": ".py",
      "mimetype": "text/x-python",
      "name": "python",
      "nbconvert_exporter": "python",
      "pygments_lexer": "ipython3",
      "version": "3.11.5"
    },
    "colab": {
      "provenance": [],
      "include_colab_link": true
    }
  },
  "nbformat": 4,
  "nbformat_minor": 5
}