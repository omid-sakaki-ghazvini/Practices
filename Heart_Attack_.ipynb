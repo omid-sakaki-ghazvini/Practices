{
  "cells": [
    {
      "cell_type": "markdown",
      "metadata": {
        "id": "view-in-github",
        "colab_type": "text"
      },
      "source": [
        "<a href=\"https://colab.research.google.com/github/omid-sakaki-ghazvini/Practices/blob/main/Heart_Attack_.ipynb\" target=\"_parent\"><img src=\"https://colab.research.google.com/assets/colab-badge.svg\" alt=\"Open In Colab\"/></a>"
      ]
    },
    {
      "cell_type": "markdown",
      "id": "085b3923",
      "metadata": {
        "id": "085b3923"
      },
      "source": [
        "# 1. Install Dependencies and Setup"
      ]
    },
    {
      "cell_type": "markdown",
      "id": "e46cc135",
      "metadata": {
        "id": "e46cc135"
      },
      "source": [
        "<div style=\"direction:rtl\">\n",
        "<font color='green' size=\"5px\">\n",
        " کتابخانه های مورد نیاز را نصب میکنیم\n",
        "    </font>\n",
        "</div>"
      ]
    },
    {
      "cell_type": "code",
      "execution_count": null,
      "id": "6d7f662c",
      "metadata": {
        "id": "6d7f662c"
      },
      "outputs": [],
      "source": [
        "#Data Analysis\n",
        "import pandas as pd\n",
        "import numpy as np\n",
        "import matplotlib.pyplot as plt\n",
        "import seaborn as sns\n",
        "\n",
        "#preprocessing\n",
        "from sklearn.preprocessing import StandardScaler\n",
        "from sklearn.model_selection import train_test_split\n",
        "from imblearn.combine import SMOTEENN\n",
        "\n",
        "#Classifier\n",
        "from sklearn.ensemble import RandomForestClassifier\n",
        "from sklearn.svm import SVC\n",
        "\n",
        "from sklearn.metrics import accuracy_score"
      ]
    },
    {
      "cell_type": "markdown",
      "id": "fd3a50f9",
      "metadata": {
        "id": "fd3a50f9"
      },
      "source": [
        "<div style=\"direction:rtl\">\n",
        "<font color='green' size=\"5px\">\n",
        " از لینک زیر دیتاست را دانلود کرده و در پوشه هم مسیر همین ژوپیتر نوت بوک قرار دهید\n",
        "    </font>\n",
        "</div>"
      ]
    },
    {
      "cell_type": "markdown",
      "id": "def1ee54",
      "metadata": {
        "id": "def1ee54"
      },
      "source": [
        "## https://www.kaggle.com/datasets/rashikrahmanpritom/heart-attack-analysis-prediction-dataset"
      ]
    },
    {
      "cell_type": "markdown",
      "id": "3b01a837",
      "metadata": {
        "id": "3b01a837"
      },
      "source": [
        "# 2. Load Data"
      ]
    },
    {
      "cell_type": "markdown",
      "id": "8fb2e15f",
      "metadata": {
        "id": "8fb2e15f"
      },
      "source": [
        "<div style=\"direction:rtl\">\n",
        "<font color='green' size=\"5px\">\n",
        "توسط خط فرمان زیر، دیتا را فراخوانی میکنیم\n",
        "    </font>\n",
        "</div>"
      ]
    },
    {
      "cell_type": "code",
      "execution_count": null,
      "id": "f0bdded7",
      "metadata": {
        "id": "f0bdded7"
      },
      "outputs": [],
      "source": [
        "df = pd.read_csv('/kaggle/input/heart-attack-analysis-prediction-dataset/heart.csv')\n",
        "df.info()"
      ]
    },
    {
      "cell_type": "code",
      "execution_count": null,
      "id": "04f19902",
      "metadata": {
        "id": "04f19902"
      },
      "outputs": [],
      "source": [
        "df.info()"
      ]
    },
    {
      "cell_type": "code",
      "execution_count": null,
      "id": "f2d848f1",
      "metadata": {
        "id": "f2d848f1"
      },
      "outputs": [],
      "source": [
        "df.describe()"
      ]
    },
    {
      "cell_type": "code",
      "execution_count": null,
      "id": "f656b494",
      "metadata": {
        "id": "f656b494"
      },
      "outputs": [],
      "source": [
        "df['target_names'] = df['output'].map({0:'Yes', 1:'No'})\n",
        "df.head()"
      ]
    },
    {
      "cell_type": "markdown",
      "id": "2bec9a28",
      "metadata": {
        "id": "2bec9a28"
      },
      "source": [
        "# 3.Data Analysis"
      ]
    },
    {
      "cell_type": "code",
      "execution_count": null,
      "id": "4ca6f6c5",
      "metadata": {
        "id": "4ca6f6c5"
      },
      "outputs": [],
      "source": [
        "plt.figure(figsize=(5, 5))\n",
        "palette_color = sns.color_palette('pastel')\n",
        "explode = [0.1 for _ in range(df['target_names'].nunique())]\n",
        "\n",
        "target_counts = df.groupby('target_names')['target_names'].count()\n",
        "\n",
        "target_counts.plot.pie(\n",
        "    colors=palette_color,\n",
        "    explode=explode,\n",
        "    autopct=\"%1.1f%%\",\n",
        "    shadow=True,\n",
        "    startangle=140,\n",
        "    textprops={'fontsize': 14},\n",
        "    wedgeprops={'edgecolor': 'black', 'linewidth': 1.5}\n",
        ")\n",
        "\n",
        "plt.title('Target Distribution', fontsize=18, weight='bold')\n",
        "plt.axis('equal')\n",
        "plt.show()"
      ]
    },
    {
      "cell_type": "code",
      "execution_count": null,
      "id": "56f27e2e",
      "metadata": {
        "id": "56f27e2e"
      },
      "outputs": [],
      "source": [
        "plt.figure(figsize=(5, 5))\n",
        "palette_color = sns.color_palette('pastel')\n",
        "explode = [0.1 for _ in range(df['sex'].nunique())]\n",
        "\n",
        "target_counts = df.groupby('sex')['sex'].count()\n",
        "\n",
        "target_counts.plot.pie(\n",
        "    colors=palette_color,\n",
        "    explode=explode,\n",
        "    autopct=\"%1.1f%%\",\n",
        "    shadow=True,\n",
        "    startangle=140,\n",
        "    textprops={'fontsize': 14},\n",
        "    wedgeprops={'edgecolor': 'black', 'linewidth': 1.5}\n",
        ")\n",
        "\n",
        "plt.title('Gender Distribution', fontsize=18, weight='bold')\n",
        "plt.axis('equal')\n",
        "plt.show()"
      ]
    },
    {
      "cell_type": "code",
      "execution_count": null,
      "id": "568419fc",
      "metadata": {
        "id": "568419fc"
      },
      "outputs": [],
      "source": [
        "fig, axes = plt.subplots(2,2,sharex=True, figsize=(20,10))\n",
        "\n",
        "sns.kdeplot(data=df, x='age', hue='target_names', ax=axes[0,0]);\n",
        "axes[0,0].set_title('age');\n",
        "\n",
        "sns.kdeplot(data=df, x='chol', hue='target_names', ax=axes[0,1]);\n",
        "axes[0,1].set_title('chol');\n",
        "\n",
        "sns.kdeplot(data=df, x='thalachh', hue='target_names', ax=axes[1,0]);\n",
        "axes[1,0].set_title('thalachh');\n",
        "\n",
        "sns.kdeplot(data=df, x='trtbps', hue='target_names', ax=axes[1,1]);\n",
        "axes[1,1].set_title('trtbps');"
      ]
    },
    {
      "cell_type": "code",
      "execution_count": null,
      "id": "99862a34",
      "metadata": {
        "id": "99862a34"
      },
      "outputs": [],
      "source": [
        "fig, axes = plt.subplots(2,3,sharex=True, figsize=(10,5))\n",
        "\n",
        "sns.countplot(data = df, x='cp',  ax=axes[0,0]);\n",
        "\n",
        "sns.countplot(data = df, x='fbs', ax=axes[0,1]);\n",
        "\n",
        "sns.countplot(data = df, x='restecg', ax=axes[0,2]);\n",
        "\n",
        "sns.countplot(data = df, x='exng', ax=axes[1,0]);\n",
        "\n",
        "sns.countplot(data = df, x='slp', ax=axes[1,1]);\n",
        "\n",
        "sns.countplot(data = df, x='caa', ax=axes[1,2]);"
      ]
    },
    {
      "cell_type": "markdown",
      "id": "986f48f2",
      "metadata": {
        "id": "986f48f2"
      },
      "source": [
        "# 4.Data preparation"
      ]
    },
    {
      "cell_type": "code",
      "execution_count": null,
      "id": "e3881501",
      "metadata": {
        "id": "e3881501"
      },
      "outputs": [],
      "source": [
        "X = df.drop(columns=['output', 'target_names'])\n",
        "y = df['output']"
      ]
    },
    {
      "cell_type": "code",
      "execution_count": null,
      "id": "1d483436",
      "metadata": {
        "id": "1d483436"
      },
      "outputs": [],
      "source": [
        "smoteenn = SMOTEENN()\n",
        "X_new, y_new = smoteenn.fit_resample(X, y)"
      ]
    },
    {
      "cell_type": "markdown",
      "id": "0bc6f22c",
      "metadata": {
        "id": "0bc6f22c"
      },
      "source": [
        "# 4. Split & Scale Data"
      ]
    },
    {
      "cell_type": "markdown",
      "id": "665ba2f4",
      "metadata": {
        "id": "665ba2f4"
      },
      "source": [
        "<div style=\"direction:rtl\">\n",
        "<font color='green' size=\"5px\">\n",
        " نرمالسازی دیتا\n",
        "    </font>\n",
        "</div>"
      ]
    },
    {
      "cell_type": "code",
      "execution_count": null,
      "id": "37b8a1d4",
      "metadata": {
        "id": "37b8a1d4"
      },
      "outputs": [],
      "source": [
        "X_train, X_test, y_train, y_test = train_test_split(X_new, y_new, test_size=0.2, random_state = 0)\n",
        "\n",
        "scaler = StandardScaler()\n",
        "\n",
        "X_train_scaled = scaler.fit_transform(X_train)\n",
        "X_test_scaled = scaler.transform(X_test)\n",
        "\n",
        "print(X_train_scaled.shape)\n",
        "print(X_test_scaled.shape)\n",
        "print(y_train.shape)\n",
        "print(y_test.shape)"
      ]
    },
    {
      "cell_type": "markdown",
      "id": "4c920ee5",
      "metadata": {
        "id": "4c920ee5"
      },
      "source": [
        "# 5. Build Models"
      ]
    },
    {
      "cell_type": "code",
      "execution_count": null,
      "id": "5ed1cf7c",
      "metadata": {
        "id": "5ed1cf7c"
      },
      "outputs": [],
      "source": [
        "models = {\n",
        "    'RF' : RandomForestClassifier(),\n",
        "    'SVM': SVC()\n",
        "}\n",
        "\n",
        "result = {}\n",
        "\n",
        "for name, model in models.items():\n",
        "    model.fit(X_train_scaled, y_train)\n",
        "    y_pred = model.predict(X_test_scaled)\n",
        "\n",
        "    accuracy = accuracy_score(y_test, y_pred)\n",
        "\n",
        "    result[name]={\n",
        "        'Accuracy':accuracy\n",
        "    }\n",
        "\n",
        "result_df = pd.DataFrame(result).T\n",
        "\n",
        "result_df"
      ]
    }
  ],
  "metadata": {
    "kernelspec": {
      "display_name": "Python 3 (ipykernel)",
      "language": "python",
      "name": "python3"
    },
    "language_info": {
      "codemirror_mode": {
        "name": "ipython",
        "version": 3
      },
      "file_extension": ".py",
      "mimetype": "text/x-python",
      "name": "python",
      "nbconvert_exporter": "python",
      "pygments_lexer": "ipython3",
      "version": "3.11.5"
    },
    "colab": {
      "provenance": [],
      "include_colab_link": true
    }
  },
  "nbformat": 4,
  "nbformat_minor": 5
}