{
  "cells": [
    {
      "cell_type": "markdown",
      "metadata": {
        "id": "view-in-github",
        "colab_type": "text"
      },
      "source": [
        "<a href=\"https://colab.research.google.com/github/omid-sakaki-ghazvini/Practices/blob/main/Financial_Risk.ipynb\" target=\"_parent\"><img src=\"https://colab.research.google.com/assets/colab-badge.svg\" alt=\"Open In Colab\"/></a>"
      ]
    },
    {
      "cell_type": "markdown",
      "id": "085b3923",
      "metadata": {
        "id": "085b3923"
      },
      "source": [
        "# 1. Install Dependencies and Setup"
      ]
    },
    {
      "cell_type": "markdown",
      "id": "e46cc135",
      "metadata": {
        "id": "e46cc135"
      },
      "source": [
        "<div style=\"direction:rtl\">\n",
        "<font color='green' size=\"5px\">\n",
        " کتابخانه های مورد نیاز را نصب میکنیم\n",
        "    </font>\n",
        "</div>"
      ]
    },
    {
      "cell_type": "code",
      "execution_count": null,
      "id": "6d7f662c",
      "metadata": {
        "id": "6d7f662c"
      },
      "outputs": [],
      "source": [
        "import pandas as pd\n",
        "import matplotlib.pyplot as plt\n",
        "import seaborn as sns\n",
        "\n",
        "from sklearn.preprocessing import LabelEncoder, StandardScaler\n",
        "from sklearn.model_selection import train_test_split\n",
        "\n",
        "from sklearn.metrics import accuracy_score, classification_report\n",
        "from sklearn.tree import DecisionTreeClassifier\n",
        "from sklearn.ensemble import RandomForestClassifier, AdaBoostClassifier, GradientBoostingClassifier\n",
        "from sklearn.linear_model import SGDClassifier\n",
        "from catboost import CatBoostClassifier\n",
        "from xgboost import XGBClassifier\n",
        "from lightgbm import LGBMClassifier"
      ]
    },
    {
      "cell_type": "markdown",
      "id": "fd3a50f9",
      "metadata": {
        "id": "fd3a50f9"
      },
      "source": [
        "<div style=\"direction:rtl\">\n",
        "<font color='green' size=\"5px\">\n",
        " از لینک زیر دیتاست را دانلود کرده و در پوشه هم مسیر همین ژوپیتر نوت بوک قرار دهید\n",
        "    </font>\n",
        "</div>"
      ]
    },
    {
      "cell_type": "markdown",
      "id": "def1ee54",
      "metadata": {
        "id": "def1ee54"
      },
      "source": [
        "## https://www.kaggle.com/datasets/lorenzozoppelletto/financial-risk-for-loan-approval/data"
      ]
    },
    {
      "cell_type": "markdown",
      "id": "3b01a837",
      "metadata": {
        "id": "3b01a837"
      },
      "source": [
        "# 2. Load Data"
      ]
    },
    {
      "cell_type": "markdown",
      "id": "8fb2e15f",
      "metadata": {
        "id": "8fb2e15f"
      },
      "source": [
        "<div style=\"direction:rtl\">\n",
        "<font color='green' size=\"5px\">\n",
        "توسط خط فرمان زیر، دیتا را فراخوانی میکنیم\n",
        "    </font>\n",
        "</div>"
      ]
    },
    {
      "cell_type": "code",
      "execution_count": null,
      "id": "f0bdded7",
      "metadata": {
        "id": "f0bdded7"
      },
      "outputs": [],
      "source": [
        "df = pd.read_csv('/kaggle/input/financial-risk-for-loan-approval/Loan.csv')\n",
        "df.head()"
      ]
    },
    {
      "cell_type": "code",
      "execution_count": null,
      "id": "fc32b058",
      "metadata": {
        "id": "fc32b058"
      },
      "outputs": [],
      "source": [
        "df = df.drop(columns=['ApplicationDate'], axis=1)"
      ]
    },
    {
      "cell_type": "code",
      "execution_count": null,
      "id": "04f19902",
      "metadata": {
        "id": "04f19902"
      },
      "outputs": [],
      "source": [
        "df.info()"
      ]
    },
    {
      "cell_type": "code",
      "execution_count": null,
      "id": "f2d848f1",
      "metadata": {
        "id": "f2d848f1"
      },
      "outputs": [],
      "source": [
        "df.describe()"
      ]
    },
    {
      "cell_type": "markdown",
      "id": "986f48f2",
      "metadata": {
        "id": "986f48f2"
      },
      "source": [
        "## 3.Data preparation"
      ]
    },
    {
      "cell_type": "code",
      "execution_count": null,
      "id": "e3881501",
      "metadata": {
        "id": "e3881501"
      },
      "outputs": [],
      "source": [
        "le = LabelEncoder()\n",
        "\n",
        "for column in df.select_dtypes(include=['object']).columns:\n",
        "    df[column] = le.fit_transform(df[column])"
      ]
    },
    {
      "cell_type": "code",
      "execution_count": null,
      "id": "1d483436",
      "metadata": {
        "id": "1d483436"
      },
      "outputs": [],
      "source": [
        "X = df.drop('LoanApproved', axis=1)\n",
        "y = df['LoanApproved']"
      ]
    },
    {
      "cell_type": "markdown",
      "id": "0bc6f22c",
      "metadata": {
        "id": "0bc6f22c"
      },
      "source": [
        "# 4. Split & Scale Data"
      ]
    },
    {
      "cell_type": "markdown",
      "id": "665ba2f4",
      "metadata": {
        "id": "665ba2f4"
      },
      "source": [
        "<div style=\"direction:rtl\">\n",
        "<font color='green' size=\"5px\">\n",
        " نرمالسازی دیتا\n",
        "    </font>\n",
        "</div>"
      ]
    },
    {
      "cell_type": "code",
      "execution_count": null,
      "id": "37b8a1d4",
      "metadata": {
        "id": "37b8a1d4"
      },
      "outputs": [],
      "source": [
        "X_train, X_test, y_train, y_test = train_test_split(X, y, test_size=0.3, random_state = 42)\n",
        "\n",
        "scaler = StandardScaler()\n",
        "\n",
        "X_train_scaled = scaler.fit_transform(X_train)\n",
        "X_test_scaled = scaler.transform(X_test)\n",
        "\n",
        "print(X_train_scaled.shape)\n",
        "print(X_test_scaled.shape)\n",
        "print(y_train.shape)\n",
        "print(y_test.shape)"
      ]
    },
    {
      "cell_type": "markdown",
      "id": "4c920ee5",
      "metadata": {
        "id": "4c920ee5"
      },
      "source": [
        "# 5. Build Models"
      ]
    },
    {
      "cell_type": "code",
      "execution_count": null,
      "id": "5ed1cf7c",
      "metadata": {
        "id": "5ed1cf7c"
      },
      "outputs": [],
      "source": [
        "models = {\n",
        "    'RF' : RandomForestClassifier(random_state=42),\n",
        "    'AdaBoost': AdaBoostClassifier(estimator=DecisionTreeClassifier(random_state=42)),\n",
        "    'GradBoost': GradientBoostingClassifier(random_state=42),\n",
        "    'XGB' : XGBClassifier(random_state=42),\n",
        "    'LGBM' : LGBMClassifier(random_state=42)\n",
        "\n",
        "}\n",
        "\n",
        "results = {}\n",
        "\n",
        "for name, model in models.items():\n",
        "    model.fit(X_train_scaled, y_train)\n",
        "\n",
        "    y_pred = model.predict(X_test_scaled)\n",
        "\n",
        "    accuracy = accuracy_score(y_test, y_pred)\n",
        "    classification_rep = classification_report(y_test, y_pred, output_dict=True)\n",
        "\n",
        "    results[name] = {\n",
        "        'Accuracy': accuracy,\n",
        "        'Precision': classification_rep['1']['precision'],\n",
        "        'Recall': classification_rep['1']['recall'],\n",
        "        'F1': classification_rep['1']['f1-score']\n",
        "    }\n",
        "\n",
        "results_df = pd.DataFrame(results).T"
      ]
    },
    {
      "cell_type": "markdown",
      "id": "73a50326",
      "metadata": {
        "id": "73a50326"
      },
      "source": [
        "# 6. Results"
      ]
    },
    {
      "cell_type": "code",
      "execution_count": null,
      "id": "75881321",
      "metadata": {
        "id": "75881321"
      },
      "outputs": [],
      "source": [
        "results_df"
      ]
    },
    {
      "cell_type": "code",
      "execution_count": null,
      "id": "ac96708c",
      "metadata": {
        "id": "ac96708c"
      },
      "outputs": [],
      "source": [
        "plt.figure(figsize=(10,6))\n",
        "\n",
        "plt.title(\"Results\")\n",
        "\n",
        "sns.lineplot(results_df['Accuracy'])\n",
        "\n",
        "plt.ylabel(\"Accuracy\");"
      ]
    }
  ],
  "metadata": {
    "kernelspec": {
      "display_name": "Python 3 (ipykernel)",
      "language": "python",
      "name": "python3"
    },
    "language_info": {
      "codemirror_mode": {
        "name": "ipython",
        "version": 3
      },
      "file_extension": ".py",
      "mimetype": "text/x-python",
      "name": "python",
      "nbconvert_exporter": "python",
      "pygments_lexer": "ipython3",
      "version": "3.11.5"
    },
    "colab": {
      "provenance": [],
      "include_colab_link": true
    }
  },
  "nbformat": 4,
  "nbformat_minor": 5
}