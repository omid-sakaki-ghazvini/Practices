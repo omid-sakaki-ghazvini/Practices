{
  "cells": [
    {
      "cell_type": "markdown",
      "metadata": {
        "id": "view-in-github",
        "colab_type": "text"
      },
      "source": [
        "<a href=\"https://colab.research.google.com/github/omid-sakaki-ghazvini/Practices/blob/main/Academic_Success.ipynb\" target=\"_parent\"><img src=\"https://colab.research.google.com/assets/colab-badge.svg\" alt=\"Open In Colab\"/></a>"
      ]
    },
    {
      "cell_type": "markdown",
      "id": "085b3923",
      "metadata": {
        "id": "085b3923"
      },
      "source": [
        "# 1. Install Dependencies and Setup"
      ]
    },
    {
      "cell_type": "markdown",
      "id": "e46cc135",
      "metadata": {
        "id": "e46cc135"
      },
      "source": [
        "<div style=\"direction:rtl\">\n",
        "<font color='green' size=\"5px\">\n",
        " کتابخانه های مورد نیاز را نصب میکنیم\n",
        "    </font>\n",
        "</div>"
      ]
    },
    {
      "cell_type": "code",
      "execution_count": null,
      "id": "f754ca40",
      "metadata": {
        "id": "f754ca40"
      },
      "outputs": [],
      "source": [
        "pip install xgboost lightgbm flaml"
      ]
    },
    {
      "cell_type": "code",
      "execution_count": null,
      "id": "6d7f662c",
      "metadata": {
        "id": "6d7f662c"
      },
      "outputs": [],
      "source": [
        "#Data Analysis\n",
        "import pandas as pd\n",
        "import numpy as np\n",
        "import matplotlib.pyplot as plt\n",
        "import seaborn as sns\n",
        "\n",
        "#preprocessing\n",
        "from sklearn.preprocessing import StandardScaler\n",
        "from sklearn.model_selection import train_test_split\n",
        "\n",
        "#Classifier\n",
        "from sklearn.tree import DecisionTreeClassifier\n",
        "from sklearn.ensemble import RandomForestClassifier, AdaBoostClassifier, GradientBoostingClassifier\n",
        "from xgboost import XGBClassifier\n",
        "from lightgbm import LGBMClassifier\n",
        "from flaml import AutoML\n"
      ]
    },
    {
      "cell_type": "markdown",
      "id": "fd3a50f9",
      "metadata": {
        "id": "fd3a50f9"
      },
      "source": [
        "<div style=\"direction:rtl\">\n",
        "<font color='green' size=\"5px\">\n",
        " از لینک زیر دیتاست را دانلود کرده و در پوشه هم مسیر همین ژوپیتر نوت بوک قرار دهید\n",
        "    </font>\n",
        "</div>"
      ]
    },
    {
      "cell_type": "markdown",
      "id": "def1ee54",
      "metadata": {
        "id": "def1ee54"
      },
      "source": [
        "## https://www.kaggle.com/competitions/playground-series-s4e6/data"
      ]
    },
    {
      "cell_type": "markdown",
      "id": "3b01a837",
      "metadata": {
        "id": "3b01a837"
      },
      "source": [
        "# 2. Load Data"
      ]
    },
    {
      "cell_type": "markdown",
      "id": "8fb2e15f",
      "metadata": {
        "id": "8fb2e15f"
      },
      "source": [
        "<div style=\"direction:rtl\">\n",
        "<font color='green' size=\"5px\">\n",
        "توسط خط فرمان زیر، دیتا را فراخوانی میکنیم\n",
        "    </font>\n",
        "</div>"
      ]
    },
    {
      "cell_type": "code",
      "execution_count": null,
      "id": "f0bdded7",
      "metadata": {
        "id": "f0bdded7"
      },
      "outputs": [],
      "source": [
        "df = pd.read_csv('/kaggle/input/playground-series-s4e6/train.csv')\n",
        "df.head()"
      ]
    },
    {
      "cell_type": "code",
      "execution_count": null,
      "id": "04f19902",
      "metadata": {
        "id": "04f19902"
      },
      "outputs": [],
      "source": [
        "df.info()"
      ]
    },
    {
      "cell_type": "code",
      "execution_count": null,
      "id": "f2d848f1",
      "metadata": {
        "id": "f2d848f1"
      },
      "outputs": [],
      "source": [
        "df.describe()"
      ]
    },
    {
      "cell_type": "markdown",
      "id": "7bc2b497",
      "metadata": {
        "id": "7bc2b497"
      },
      "source": [
        "## 3.Data Analysis"
      ]
    },
    {
      "cell_type": "code",
      "execution_count": null,
      "id": "60584ff9",
      "metadata": {
        "id": "60584ff9"
      },
      "outputs": [],
      "source": [
        "df['Target'].unique()"
      ]
    },
    {
      "cell_type": "code",
      "execution_count": null,
      "id": "2b2ae61a",
      "metadata": {
        "id": "2b2ae61a"
      },
      "outputs": [],
      "source": [
        "df.groupby('Target')['Target'].count()"
      ]
    },
    {
      "cell_type": "code",
      "execution_count": null,
      "id": "eef4951b",
      "metadata": {
        "id": "eef4951b"
      },
      "outputs": [],
      "source": [
        "train_df.describe().T"
      ]
    },
    {
      "cell_type": "code",
      "execution_count": null,
      "id": "3a1c6344",
      "metadata": {
        "id": "3a1c6344"
      },
      "outputs": [],
      "source": [
        "fig, axes = plt.subplots(3, 2, sharex=True, figsize=(15,10))\n",
        "\n",
        "sns.kdeplot(data=train_df ,x='Curricular units 2nd sem (approved)', hue='Target', ax=axes[0,0]);\n",
        "axes[0,0].set_title('Curricular units 2nd sem (approved)');\n",
        "\n",
        "sns.kdeplot(data=train_df ,x='Curricular units 2nd sem (grade)', hue='Target', ax=axes[0,1]);\n",
        "axes[0,1].set_title('Curricular units 2nd sem (grade)');\n",
        "\n",
        "sns.kdeplot(data=train_df ,x='Curricular units 1st sem (approved)', hue='Target', ax=axes[1,0]);\n",
        "axes[1,0].set_title('Curricular units 1st sem (approved)');\n",
        "\n",
        "sns.kdeplot(data=train_df ,x='Curricular units 1st sem (grade)', hue='Target', ax=axes[1,1]);\n",
        "axes[1,1].set_title('Curricular units 1st sem (grade)');\n",
        "\n",
        "sns.kdeplot(data=train_df ,x='Curricular units 2nd sem (evaluations)', hue='Target', ax=axes[2,0]);\n",
        "axes[2,0].set_title('Curricular units 2nd sem (evaluations)');\n",
        "\n",
        "sns.kdeplot(data=train_df ,x='Curricular units 1st sem (evaluations)', hue='Target', ax=axes[2,1]);\n",
        "axes[2,1].set_title('Curricular units 1st sem (evaluations)');"
      ]
    },
    {
      "cell_type": "code",
      "execution_count": null,
      "id": "f3a489b9",
      "metadata": {
        "id": "f3a489b9"
      },
      "outputs": [],
      "source": [
        "fig, axes = plt.subplots(1, 3, sharex=True, figsize=(10,5))\n",
        "\n",
        "sns.scatterplot(data=train_df ,x='Curricular units 1st sem (approved)', y='Curricular units 2nd sem (approved)', hue='Target', ax=axes[0]);\n",
        "\n",
        "sns.scatterplot(data=train_df ,x='Curricular units 1st sem (grade)', y='Curricular units 2nd sem (grade)', hue='Target', ax=axes[1]);\n",
        "\n",
        "sns.scatterplot(data=train_df ,x='Curricular units 1st sem (evaluations)', y='Curricular units 2nd sem (evaluations)', hue='Target',ax=axes[2]);"
      ]
    },
    {
      "cell_type": "markdown",
      "id": "986f48f2",
      "metadata": {
        "id": "986f48f2"
      },
      "source": [
        "## 4.Data preparation"
      ]
    },
    {
      "cell_type": "code",
      "execution_count": null,
      "id": "e3881501",
      "metadata": {
        "id": "e3881501"
      },
      "outputs": [],
      "source": [
        "Target_names={'Graduate':0, 'Dropout':1, 'Enrolled':2}\n",
        "\n",
        "X = train_df.drop(columns = ['id','Target'])\n",
        "y = train_df['Target'].map(Target_names)"
      ]
    },
    {
      "cell_type": "markdown",
      "id": "0bc6f22c",
      "metadata": {
        "id": "0bc6f22c"
      },
      "source": [
        "# 5. Split & Scale Data"
      ]
    },
    {
      "cell_type": "markdown",
      "id": "665ba2f4",
      "metadata": {
        "id": "665ba2f4"
      },
      "source": [
        "<div style=\"direction:rtl\">\n",
        "<font color='green' size=\"5px\">\n",
        " نرمالسازی دیتا\n",
        "    </font>\n",
        "</div>"
      ]
    },
    {
      "cell_type": "code",
      "execution_count": null,
      "id": "37b8a1d4",
      "metadata": {
        "id": "37b8a1d4"
      },
      "outputs": [],
      "source": [
        "X_train, X_test, y_train, y_test = train_test_split(X,y, test_size=0.3, random_state=42)\n",
        "\n",
        "print(X_train.shape)\n",
        "print(y_train.shape)\n",
        "print(X_test.shape)\n",
        "print(y_test.shape)"
      ]
    },
    {
      "cell_type": "code",
      "execution_count": null,
      "id": "097a1a9d",
      "metadata": {
        "id": "097a1a9d"
      },
      "outputs": [],
      "source": [
        "scaler_data = StandardScaler()\n",
        "\n",
        "X_train_scaled = scaler_data.fit_transform(X_train)\n",
        "X_test_scaled = scaler_data.fit_transform(X_test)"
      ]
    },
    {
      "cell_type": "markdown",
      "id": "4c920ee5",
      "metadata": {
        "id": "4c920ee5"
      },
      "source": [
        "# 6. Build Models"
      ]
    },
    {
      "cell_type": "code",
      "execution_count": null,
      "id": "5ed1cf7c",
      "metadata": {
        "id": "5ed1cf7c"
      },
      "outputs": [],
      "source": [
        "models = {\n",
        "    'automl' : AutoML(task=\"classification\", time_budget=100, n_jobs=-1, metric=\"accuracy\"),\n",
        "    'Random Forest': RandomForestClassifier(random_state=42),\n",
        "    'XGBoost': XGBClassifier(eval_metric='logloss', random_state=42),\n",
        "    'AdaBoost': AdaBoostClassifier(estimator=DecisionTreeClassifier(max_depth=100,min_samples_split=8,min_samples_leaf=4,random_state=42)),\n",
        "    'GradientBoost' : GradientBoostingClassifier(loss='log_loss',n_estimators=100),\n",
        "    'LGBM' : LGBMClassifier(random_state=42)\n",
        "\n",
        "}\n",
        "\n",
        "results = {}\n",
        "\n",
        "for name, model in models.items():\n",
        "    model.fit(X_train_scaled, y_train)\n",
        "\n",
        "    y_pred = model.predict(X_test_scaled)\n",
        "    y_pred_proba = model.predict_proba(X_test_scaled)[:, 1]  # Probabilities for churn\n",
        "\n",
        "    accuracy = accuracy_score(y_test, y_pred)\n",
        "    classification_rep = classification_report(y_test, y_pred, output_dict=True)\n",
        "\n",
        "    results[name] = {\n",
        "        'Accuracy': accuracy,\n",
        "        'Precision': classification_rep['1']['precision'],\n",
        "        'Recall': classification_rep['1']['recall'],\n",
        "        'F1': classification_rep['1']['f1-score']\n",
        "    }\n",
        "\n",
        "results_df = pd.DataFrame(results).T"
      ]
    },
    {
      "cell_type": "markdown",
      "id": "73a50326",
      "metadata": {
        "id": "73a50326"
      },
      "source": [
        "# 7. Results"
      ]
    },
    {
      "cell_type": "code",
      "execution_count": null,
      "id": "75881321",
      "metadata": {
        "id": "75881321"
      },
      "outputs": [],
      "source": [
        "results_df"
      ]
    },
    {
      "cell_type": "code",
      "execution_count": null,
      "id": "ac96708c",
      "metadata": {
        "id": "ac96708c"
      },
      "outputs": [],
      "source": [
        "plt.figure(figsize=(10,6))\n",
        "\n",
        "plt.title(\"Results\")\n",
        "\n",
        "sns.lineplot(results_df['Accuracy'])\n",
        "\n",
        "plt.ylabel(\"Accuracy\");"
      ]
    }
  ],
  "metadata": {
    "kernelspec": {
      "display_name": "Python 3 (ipykernel)",
      "language": "python",
      "name": "python3"
    },
    "language_info": {
      "codemirror_mode": {
        "name": "ipython",
        "version": 3
      },
      "file_extension": ".py",
      "mimetype": "text/x-python",
      "name": "python",
      "nbconvert_exporter": "python",
      "pygments_lexer": "ipython3",
      "version": "3.11.5"
    },
    "colab": {
      "provenance": [],
      "include_colab_link": true
    }
  },
  "nbformat": 4,
  "nbformat_minor": 5
}