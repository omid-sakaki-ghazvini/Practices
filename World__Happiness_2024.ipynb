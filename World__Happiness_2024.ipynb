{
  "cells": [
    {
      "cell_type": "markdown",
      "metadata": {
        "id": "view-in-github",
        "colab_type": "text"
      },
      "source": [
        "<a href=\"https://colab.research.google.com/github/omid-sakaki-ghazvini/Practices/blob/main/World__Happiness_2024.ipynb\" target=\"_parent\"><img src=\"https://colab.research.google.com/assets/colab-badge.svg\" alt=\"Open In Colab\"/></a>"
      ]
    },
    {
      "cell_type": "markdown",
      "id": "085b3923",
      "metadata": {
        "id": "085b3923"
      },
      "source": [
        "# 1. Install Dependencies and Setup"
      ]
    },
    {
      "cell_type": "markdown",
      "id": "e46cc135",
      "metadata": {
        "id": "e46cc135"
      },
      "source": [
        "<div style=\"direction:rtl\">\n",
        "<font color='green' size=\"5px\">\n",
        " کتابخانه های مورد نیاز را نصب میکنیم\n",
        "    </font>\n",
        "</div>"
      ]
    },
    {
      "cell_type": "code",
      "execution_count": null,
      "id": "6d7f662c",
      "metadata": {
        "id": "6d7f662c"
      },
      "outputs": [],
      "source": [
        "#Data Analysis\n",
        "import numpy as np\n",
        "import pandas as pd\n",
        "import matplotlib.pyplot as plt\n",
        "import seaborn as sns\n",
        "\n",
        "#preprocessing & Score\n",
        "from sklearn.preprocessing import LabelEncoder,StandardScaler\n",
        "from sklearn.model_selection import train_test_split\n",
        "from sklearn.metrics import accuracy_score, roc_auc_score, classification_report\n",
        "\n",
        "#Classifier\n",
        "from sklearn.ensemble import RandomForestClassifier, AdaBoostClassifier\n",
        "from sklearn.neighbors import KNeighborsClassifier\n",
        "from sklearn.svm import SVC\n",
        "from xgboost import XGBClassifier\n",
        "from sklearn.linear_model import LogisticRegression\n",
        "\n",
        "#Clustering\n",
        "from sklearn.decomposition import PCA\n",
        "from sklearn.cluster import KMeans\n",
        "\n",
        "import warnings\n",
        "\n",
        "warnings.filterwarnings('ignore')"
      ]
    },
    {
      "cell_type": "markdown",
      "id": "fd3a50f9",
      "metadata": {
        "id": "fd3a50f9"
      },
      "source": [
        "<div style=\"direction:rtl\">\n",
        "<font color='green' size=\"5px\">\n",
        " از لینک زیر دیتاست را دانلود کرده و در پوشه هم مسیر همین ژوپیتر نوت بوک قرار دهید\n",
        "    </font>\n",
        "</div>"
      ]
    },
    {
      "cell_type": "markdown",
      "id": "def1ee54",
      "metadata": {
        "id": "def1ee54"
      },
      "source": [
        "## https://www.kaggle.com/datasets/abdullah0a/world-happiness-data-2024-explore-life"
      ]
    },
    {
      "cell_type": "markdown",
      "id": "3b01a837",
      "metadata": {
        "id": "3b01a837"
      },
      "source": [
        "# 2. Load Data"
      ]
    },
    {
      "cell_type": "markdown",
      "id": "8fb2e15f",
      "metadata": {
        "id": "8fb2e15f"
      },
      "source": [
        "<div style=\"direction:rtl\">\n",
        "<font color='green' size=\"5px\">\n",
        "توسط خط فرمان زیر، دیتا را فراخوانی میکنیم\n",
        "    </font>\n",
        "</div>"
      ]
    },
    {
      "cell_type": "code",
      "execution_count": null,
      "id": "f0bdded7",
      "metadata": {
        "id": "f0bdded7"
      },
      "outputs": [],
      "source": [
        "df = pd.read_csv('/kaggle/input/world-happiness-data-2024-explore-life/World Happiness Report 2024.csv')\n",
        "df.info()"
      ]
    },
    {
      "cell_type": "code",
      "execution_count": null,
      "id": "04f19902",
      "metadata": {
        "id": "04f19902"
      },
      "outputs": [],
      "source": [
        "df.head(10)"
      ]
    },
    {
      "cell_type": "code",
      "execution_count": null,
      "id": "f2d848f1",
      "metadata": {
        "id": "f2d848f1"
      },
      "outputs": [],
      "source": [
        "df.describe()"
      ]
    },
    {
      "cell_type": "code",
      "execution_count": null,
      "id": "7b133af9",
      "metadata": {
        "id": "7b133af9"
      },
      "outputs": [],
      "source": [
        "df.isnull().sum().sort_values(ascending=True)"
      ]
    },
    {
      "cell_type": "code",
      "execution_count": null,
      "id": "feaa41b9",
      "metadata": {
        "id": "feaa41b9"
      },
      "outputs": [],
      "source": [
        "df = df.fillna(method='pad')"
      ]
    },
    {
      "cell_type": "markdown",
      "id": "7bc2b497",
      "metadata": {
        "id": "7bc2b497"
      },
      "source": [
        "## 3.Data Analysis"
      ]
    },
    {
      "cell_type": "code",
      "execution_count": null,
      "id": "60584ff9",
      "metadata": {
        "id": "60584ff9"
      },
      "outputs": [],
      "source": [
        "df['Country name'].unique()"
      ]
    },
    {
      "cell_type": "code",
      "execution_count": null,
      "id": "2b2ae61a",
      "metadata": {
        "id": "2b2ae61a"
      },
      "outputs": [],
      "source": [
        "df.columns"
      ]
    },
    {
      "cell_type": "code",
      "execution_count": null,
      "id": "eef4951b",
      "metadata": {
        "id": "eef4951b"
      },
      "outputs": [],
      "source": [
        "df['Life Ladder'].describe()"
      ]
    },
    {
      "cell_type": "code",
      "execution_count": null,
      "id": "07ba206f",
      "metadata": {
        "id": "07ba206f"
      },
      "outputs": [],
      "source": [
        "print(df.loc[(df['Life Ladder'] == df['Life Ladder'].min())]['Country name'])\n",
        "print(df.loc[(df['Life Ladder'] == df['Life Ladder'].max())]['Country name'])"
      ]
    },
    {
      "cell_type": "code",
      "execution_count": null,
      "id": "3a1c6344",
      "metadata": {
        "id": "3a1c6344"
      },
      "outputs": [],
      "source": [
        "fig, axes = plt.subplots(1, 2, sharex=True, figsize=(20,5))\n",
        "\n",
        "sns.barplot(data = df.loc[df['Country name']=='Afghanistan'], x = 'year', y = 'Life Ladder', ax = axes[0]);\n",
        "axes[0].set_title('Afghanistan');\n",
        "\n",
        "sns.barplot(data = df.loc[df['Country name']=='Denmark'], x = 'year', y = 'Life Ladder', ax = axes[1]);\n",
        "axes[1].set_title('Denmark');"
      ]
    },
    {
      "cell_type": "code",
      "execution_count": null,
      "id": "f3a489b9",
      "metadata": {
        "id": "f3a489b9"
      },
      "outputs": [],
      "source": [
        "fig, axes = plt.subplots(1, 2, sharex=True, figsize=(20,5))\n",
        "\n",
        "sns.barplot(data = df.loc[df['Country name']=='Afghanistan'], x = 'year', y = 'Negative affect', ax = axes[0]);\n",
        "axes[0].set_title('Afghanistan');\n",
        "\n",
        "sns.barplot(data = df.loc[df['Country name']=='Denmark'], x = 'year', y = 'Negative affect', ax = axes[1]);\n",
        "axes[1].set_title('Denmark');"
      ]
    },
    {
      "cell_type": "code",
      "execution_count": null,
      "id": "18bf9119",
      "metadata": {
        "id": "18bf9119"
      },
      "outputs": [],
      "source": [
        "fig, axes = plt.subplots(1, 2, sharex=True, figsize=(20,5))\n",
        "\n",
        "sns.barplot(data = df.loc[df['Country name']=='Afghanistan'], x = 'year', y = 'Freedom to make life choices', ax = axes[0]);\n",
        "axes[0].set_title('Afghanistan');\n",
        "\n",
        "sns.barplot(data = df.loc[df['Country name']=='Denmark'], x = 'year', y = 'Freedom to make life choices', ax = axes[1]);\n",
        "axes[1].set_title('Denmark');"
      ]
    },
    {
      "cell_type": "code",
      "execution_count": null,
      "id": "b1d00e28",
      "metadata": {
        "id": "b1d00e28"
      },
      "outputs": [],
      "source": [
        "fig, axes = plt.subplots(1, 2, sharex=True, figsize=(20,5))\n",
        "\n",
        "sns.barplot(data = df.loc[df['Country name']=='Afghanistan'], x = 'year', y = 'Social support', ax = axes[0]);\n",
        "axes[0].set_title('Afghanistan');\n",
        "\n",
        "sns.barplot(data = df.loc[df['Country name']=='Denmark'], x = 'year', y = 'Social support', ax = axes[1]);\n",
        "axes[1].set_title('Denmark');"
      ]
    },
    {
      "cell_type": "code",
      "execution_count": null,
      "id": "656952d2",
      "metadata": {
        "scrolled": true,
        "id": "656952d2"
      },
      "outputs": [],
      "source": [
        "fig, axes = plt.subplots(2, 2, sharex=True, figsize=(20,10))\n",
        "\n",
        "sns.barplot(data = df.loc[df['Country name']=='Afghanistan'], x = 'year', y = 'Positive affect', ax = axes[0,0]);\n",
        "axes[0,0].set_title('Afghanistan');\n",
        "\n",
        "sns.barplot(data = df.loc[df['Country name']=='Afghanistan'], x = 'year', y = 'Freedom to make life choices', ax = axes[0,1]);\n",
        "axes[0,1].set_title('Afghanistan');\n",
        "\n",
        "sns.barplot(data = df.loc[df['Country name']=='Afghanistan'], x = 'year', y = 'Negative affect', ax = axes[1,0]);\n",
        "axes[1,0].set_title('Afghanistan');\n",
        "\n",
        "sns.barplot(data = df.loc[df['Country name']=='Afghanistan'], x = 'year', y = 'Life Ladder', ax = axes[1,1]);\n",
        "axes[1,1].set_title('Afghanistan');"
      ]
    },
    {
      "cell_type": "code",
      "execution_count": null,
      "id": "182e6efe",
      "metadata": {
        "id": "182e6efe"
      },
      "outputs": [],
      "source": [
        "df['Life Ladder'].describe()"
      ]
    },
    {
      "cell_type": "code",
      "execution_count": null,
      "id": "4c62ceec",
      "metadata": {
        "id": "4c62ceec"
      },
      "outputs": [],
      "source": [
        "def target_name(index):\n",
        "    if index < 4.6:\n",
        "        return 'Very Sad'\n",
        "    elif 4.6 <= index < 5.4:\n",
        "        return 'Sad'\n",
        "    elif 5.4 <= index < 6.3:\n",
        "        return 'Neutral'\n",
        "    elif 6.3 <= index < 8.0:\n",
        "        return 'Happy'\n",
        "    else:\n",
        "        return 'Very Happy'\n",
        "\n",
        "df['target_name'] = df['Life Ladder'].apply(target_name)"
      ]
    },
    {
      "cell_type": "code",
      "execution_count": null,
      "id": "bd796e99",
      "metadata": {
        "id": "bd796e99"
      },
      "outputs": [],
      "source": [
        "fig, axes = plt.subplots(3, 3, sharex=True, figsize=(20,10))\n",
        "\n",
        "sns.scatterplot(data=df ,x='Log GDP per capita', y='Positive affect', hue='target_name', ax=axes[0,0]);\n",
        "axes[0,0].set_title('Log GDP per capita');\n",
        "\n",
        "sns.scatterplot(data=df ,x='Log GDP per capita', y='Negative affect', hue='target_name', ax=axes[0,1]);\n",
        "axes[0,1].set_title('Log GDP per capita');\n",
        "\n",
        "sns.scatterplot(data=df ,x='Healthy life expectancy at birth', y='Positive affect', hue='target_name', ax=axes[0,2]);\n",
        "axes[0,1].set_title('Healthy life expectancy at birth');\n",
        "\n",
        "sns.scatterplot(data=df ,x='Healthy life expectancy at birth', y='Negative affect', hue='target_name',ax=axes[1,0]);\n",
        "axes[0,2].set_title('Healthy life expectancy at birth');\n",
        "\n",
        "sns.scatterplot(data=df ,x='Freedom to make life choices', y='Positive affect', hue='target_name', ax=axes[1,1]);\n",
        "axes[1,1].set_title('Freedom to make life choices');\n",
        "\n",
        "sns.scatterplot(data=df ,x='Freedom to make life choices', y='Negative affect', hue='target_name', ax=axes[1,2]);\n",
        "axes[1,2].set_title('Freedom to make life choices');\n",
        "\n",
        "sns.scatterplot(data=df ,x='Life Ladder', y='Positive affect', hue='target_name', ax=axes[2,0]);\n",
        "axes[2,0].set_title('Life Ladder');\n",
        "\n",
        "sns.scatterplot(data=df ,x='Life Ladder', y='Negative affect', hue='target_name', ax=axes[2,1]);\n",
        "axes[2,1].set_title('Life Ladder');"
      ]
    },
    {
      "cell_type": "markdown",
      "id": "986f48f2",
      "metadata": {
        "id": "986f48f2"
      },
      "source": [
        "## 4.Data preparation"
      ]
    },
    {
      "cell_type": "code",
      "execution_count": null,
      "id": "e3881501",
      "metadata": {
        "id": "e3881501"
      },
      "outputs": [],
      "source": [
        "df_clean = df.drop(['year'], axis=1)\n",
        "\n",
        "le = LabelEncoder()\n",
        "for column in df_clean.select_dtypes(include=['object']).columns:\n",
        "    df_clean[column] = le.fit_transform(df_clean[column])\n",
        "\n",
        "df_clean.head()"
      ]
    },
    {
      "cell_type": "code",
      "execution_count": null,
      "id": "702c7e5e",
      "metadata": {
        "id": "702c7e5e"
      },
      "outputs": [],
      "source": [
        "X = df_clean.drop('target_name', axis=1)\n",
        "y = df_clean['target_name']"
      ]
    },
    {
      "cell_type": "markdown",
      "id": "0bc6f22c",
      "metadata": {
        "id": "0bc6f22c"
      },
      "source": [
        "# 5. Split & Scale Data"
      ]
    },
    {
      "cell_type": "markdown",
      "id": "665ba2f4",
      "metadata": {
        "id": "665ba2f4"
      },
      "source": [
        "<div style=\"direction:rtl\">\n",
        "<font color='green' size=\"5px\">\n",
        " نرمالسازی دیتا\n",
        "    </font>\n",
        "</div>"
      ]
    },
    {
      "cell_type": "code",
      "execution_count": null,
      "id": "37b8a1d4",
      "metadata": {
        "id": "37b8a1d4"
      },
      "outputs": [],
      "source": [
        "X_train, X_test, y_train, y_test = train_test_split(X, y, test_size=0.2, random_state=42)\n",
        "\n",
        "scaler = StandardScaler()\n",
        "X_train_scaled = scaler.fit_transform(X_train)\n",
        "X_test_scaled = scaler.transform(X_test)"
      ]
    },
    {
      "cell_type": "markdown",
      "id": "4c920ee5",
      "metadata": {
        "id": "4c920ee5"
      },
      "source": [
        "# 6. Build Models"
      ]
    },
    {
      "cell_type": "code",
      "execution_count": null,
      "id": "5ed1cf7c",
      "metadata": {
        "id": "5ed1cf7c"
      },
      "outputs": [],
      "source": [
        "models = {\n",
        "    'LogisticRegression':LogisticRegression(random_state=42),\n",
        "    'Random Forest': RandomForestClassifier(random_state=42),\n",
        "    'XGBoost': XGBClassifier(eval_metric='logloss', random_state=42),\n",
        "    'SVM': SVC(probability=True, random_state=42),\n",
        "    'KNN': KNeighborsClassifier(),\n",
        "    'AdaBoost': AdaBoostClassifier(algorithm='SAMME', random_state=42)\n",
        "}\n",
        "\n",
        "results = {}\n",
        "\n",
        "for name, model in models.items():\n",
        "    model.fit(X_train_scaled, y_train)\n",
        "\n",
        "    y_pred = model.predict(X_test_scaled)\n",
        "    y_pred_proba = model.predict_proba(X_test_scaled)[:, 1]  # Probabilities for churn\n",
        "\n",
        "    accuracy = accuracy_score(y_test, y_pred)\n",
        "    classification_rep = classification_report(y_test, y_pred, output_dict=True)\n",
        "\n",
        "    results[name] = {\n",
        "        'Accuracy': accuracy,\n",
        "        'Precision': classification_rep['1']['precision'],\n",
        "        'Recall': classification_rep['1']['recall'],\n",
        "        'F1': classification_rep['1']['f1-score']\n",
        "    }\n",
        "\n",
        "results_df = pd.DataFrame(results).T\n",
        "\n",
        "results_df"
      ]
    },
    {
      "cell_type": "markdown",
      "id": "73a50326",
      "metadata": {
        "id": "73a50326"
      },
      "source": [
        "# 7. Clustering"
      ]
    },
    {
      "cell_type": "code",
      "execution_count": null,
      "id": "ac96708c",
      "metadata": {
        "id": "ac96708c"
      },
      "outputs": [],
      "source": [
        "kmeans = KMeans(n_clusters=5, random_state=42)\n",
        "cluster_labels = kmeans.fit_predict(X_train_scaled)\n",
        "\n",
        "pca = PCA(n_components=2)\n",
        "X_pca = pca.fit_transform(X_train_scaled)\n",
        "\n",
        "import plotly.express as px\n",
        "\n",
        "pca_df = pd.DataFrame(X_pca, columns=['PC1', 'PC2'])\n",
        "pca_df['Cluster'] = cluster_labels\n",
        "\n",
        "fig = px.scatter(pca_df, x='PC1', y='PC2', color=pca_df['Cluster'].astype(str),\n",
        "                 labels={'Cluster': 'Cluster Group'},\n",
        "                 template='plotly_white',\n",
        "                  width=900, height=800)\n",
        "\n",
        "fig.show()"
      ]
    }
  ],
  "metadata": {
    "kernelspec": {
      "display_name": "Python 3 (ipykernel)",
      "language": "python",
      "name": "python3"
    },
    "language_info": {
      "codemirror_mode": {
        "name": "ipython",
        "version": 3
      },
      "file_extension": ".py",
      "mimetype": "text/x-python",
      "name": "python",
      "nbconvert_exporter": "python",
      "pygments_lexer": "ipython3",
      "version": "3.11.5"
    },
    "colab": {
      "provenance": [],
      "include_colab_link": true
    }
  },
  "nbformat": 4,
  "nbformat_minor": 5
}