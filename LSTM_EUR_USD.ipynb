{
  "cells": [
    {
      "cell_type": "markdown",
      "metadata": {
        "id": "view-in-github",
        "colab_type": "text"
      },
      "source": [
        "<a href=\"https://colab.research.google.com/github/omid-sakaki-ghazvini/Practices/blob/main/LSTM_EUR_USD.ipynb\" target=\"_parent\"><img src=\"https://colab.research.google.com/assets/colab-badge.svg\" alt=\"Open In Colab\"/></a>"
      ]
    },
    {
      "cell_type": "markdown",
      "id": "085b3923",
      "metadata": {
        "id": "085b3923"
      },
      "source": [
        "# 1. Install Dependencies and Setup"
      ]
    },
    {
      "cell_type": "markdown",
      "id": "e46cc135",
      "metadata": {
        "id": "e46cc135"
      },
      "source": [
        "<div style=\"direction:rtl\">\n",
        "<font color='green' size=\"5px\">\n",
        " کتابخانه های مورد نیاز را نصب میکنیم\n",
        "    </font>\n",
        "</div>"
      ]
    },
    {
      "cell_type": "code",
      "execution_count": null,
      "id": "6d7f662c",
      "metadata": {
        "id": "6d7f662c"
      },
      "outputs": [],
      "source": [
        "import pandas as pd\n",
        "import matplotlib.pyplot as plt\n",
        "import seaborn as sns\n",
        "from sklearn.preprocessing import StandardScaler\n",
        "import tensorflow as tf\n",
        "from tensorflow.keras import Sequential\n",
        "from tensorflow.keras.layers import Dense,LSTM,Dropout\n",
        "\n",
        "import warnings\n",
        "\n",
        "warnings.filterwarnings('ignore')"
      ]
    },
    {
      "cell_type": "markdown",
      "id": "fd3a50f9",
      "metadata": {
        "id": "fd3a50f9"
      },
      "source": [
        "<div style=\"direction:rtl\">\n",
        "<font color='green' size=\"5px\">\n",
        " از لینک زیر دیتاست را دانلود کرده و در پوشه هم مسیر همین ژوپیتر نوت بوک قرار دهید\n",
        "    </font>\n",
        "</div>"
      ]
    },
    {
      "cell_type": "markdown",
      "id": "def1ee54",
      "metadata": {
        "id": "def1ee54"
      },
      "source": [
        "## https://www.kaggle.com/datasets/omidsakaki1370/euro-and-dollar-currency"
      ]
    },
    {
      "cell_type": "markdown",
      "id": "3b01a837",
      "metadata": {
        "id": "3b01a837"
      },
      "source": [
        "# 2. Load Data"
      ]
    },
    {
      "cell_type": "markdown",
      "id": "8fb2e15f",
      "metadata": {
        "id": "8fb2e15f"
      },
      "source": [
        "<div style=\"direction:rtl\">\n",
        "<font color='green' size=\"5px\">\n",
        "توسط خط فرمان زیر، دیتا را فراخوانی میکنیم\n",
        "    </font>\n",
        "</div>"
      ]
    },
    {
      "cell_type": "code",
      "execution_count": null,
      "id": "f0bdded7",
      "metadata": {
        "id": "f0bdded7"
      },
      "outputs": [],
      "source": [
        "df = pd.read_csv('/kaggle/input/euro-and-dollar-currency/EUR_USD_DATA.csv')\n",
        "df.head(10)"
      ]
    },
    {
      "cell_type": "markdown",
      "id": "986f48f2",
      "metadata": {
        "id": "986f48f2"
      },
      "source": [
        "# 3.Data preparation"
      ]
    },
    {
      "cell_type": "code",
      "execution_count": null,
      "id": "e3881501",
      "metadata": {
        "id": "e3881501"
      },
      "outputs": [],
      "source": [
        "df.info()"
      ]
    },
    {
      "cell_type": "code",
      "execution_count": null,
      "id": "167626d5",
      "metadata": {
        "id": "167626d5"
      },
      "outputs": [],
      "source": [
        "df = df.fillna(0)\n",
        "l=list(df.keys())\n",
        "l"
      ]
    },
    {
      "cell_type": "code",
      "execution_count": null,
      "id": "9cc38d10",
      "metadata": {
        "id": "9cc38d10"
      },
      "outputs": [],
      "source": [
        "missing_values_count = df.isnull().sum()\n",
        "missing_values_count"
      ]
    },
    {
      "cell_type": "code",
      "execution_count": null,
      "id": "d6c6125f",
      "metadata": {
        "id": "d6c6125f"
      },
      "outputs": [],
      "source": [
        "df = df.drop(columns = ['Date'])"
      ]
    },
    {
      "cell_type": "markdown",
      "id": "0bc6f22c",
      "metadata": {
        "id": "0bc6f22c"
      },
      "source": [
        "# 4. Split & Scale Data"
      ]
    },
    {
      "cell_type": "code",
      "execution_count": null,
      "id": "458dc72a",
      "metadata": {
        "id": "458dc72a"
      },
      "outputs": [],
      "source": [
        "df_for_training = df.astype(float)\n",
        "scalar = StandardScaler()\n",
        "scalar.fit(df_for_training)\n",
        "df_for_training_scaled =scalar.transform(df_for_training)\n",
        "df_for_training_scaled"
      ]
    },
    {
      "cell_type": "code",
      "execution_count": null,
      "id": "695edcf8",
      "metadata": {
        "id": "695edcf8"
      },
      "outputs": [],
      "source": [
        "y = [x[0] for x in df_for_training_scaled]\n",
        "split = int(len(df_for_training_scaled)*0.80)\n",
        "print(split)"
      ]
    },
    {
      "cell_type": "code",
      "execution_count": null,
      "id": "be414273",
      "metadata": {
        "id": "be414273"
      },
      "outputs": [],
      "source": [
        "X_train = df_for_training_scaled[:split]\n",
        "X_test = df_for_training_scaled[split:len(df_for_training_scaled)]\n",
        "Y_train = y[:split]\n",
        "Y_test = y[split:len(y)]\n",
        "\n",
        "print(len(X_train))\n",
        "print(len(X_test))\n",
        "print(len(Y_train))\n",
        "print(len(X_test))"
      ]
    },
    {
      "cell_type": "markdown",
      "id": "d284a8fb",
      "metadata": {
        "id": "d284a8fb"
      },
      "source": [
        "# 5. Model Architecture"
      ]
    },
    {
      "cell_type": "code",
      "execution_count": null,
      "id": "dd8ab7bd",
      "metadata": {
        "id": "dd8ab7bd"
      },
      "outputs": [],
      "source": [
        "n = 3 # Looking 15 days in the past\n",
        "Xtrain,Xtest,Ytrain,Ytest = [],[],[],[]\n",
        "\n",
        "for i in range(n,len(X_train)):\n",
        "    Xtrain.append(X_train[i-n:i,:X_train.shape[1]])\n",
        "    Ytrain.append(Y_train[i])  # predicting next record\n",
        "for i in range(n,len(X_test)):\n",
        "    Xtest.append(X_test[i-n:i,:X_test.shape[1]])\n",
        "    Ytest.append(Y_test[i])  # Predicting next record"
      ]
    },
    {
      "cell_type": "code",
      "execution_count": null,
      "id": "51c041bb",
      "metadata": {
        "id": "51c041bb"
      },
      "outputs": [],
      "source": [
        "val = Ytrain[0]\n",
        "\n",
        "Xtrain,Ytrain = (np.array(Xtrain),np.array(Ytrain))\n",
        "Xtest,Ytest = (np.array(Xtest),np.array(Ytest))\n",
        "Xtrain = np.reshape(Xtrain,(Xtrain.shape[0],Xtrain.shape[1],Xtrain.shape[2]))\n",
        "Xtest = np.reshape(Xtest,(Xtest.shape[0],Xtest.shape[1],Xtest.shape[2]))\n",
        "\n",
        "print(Xtrain.shape)\n",
        "print(Xtest.shape)\n",
        "print(Ytrain.shape)\n",
        "print(Ytest.shape)"
      ]
    },
    {
      "cell_type": "code",
      "execution_count": null,
      "id": "aa10329f",
      "metadata": {
        "id": "aa10329f"
      },
      "outputs": [],
      "source": [
        "model = Sequential()\n",
        "model.add(LSTM(50,return_sequences=True,input_shape=(Xtrain.shape[1],Xtrain.shape[2])))\n",
        "model.add(Dropout(0.2))\n",
        "\n",
        "model.add(LSTM(50,return_sequences=True,input_shape=(Xtrain.shape[1],Xtrain.shape[2])))\n",
        "model.add(Dropout(0.4))\n",
        "\n",
        "model.add(LSTM(50,input_shape=(Xtrain.shape[1],Xtrain.shape[2])))\n",
        "model.add(Dropout(0.5))\n",
        "\n",
        "model.add(Dense(1))\n",
        "model.compile(loss='mse',optimizer='adam',metrics=[tf.keras.metrics.RootMeanSquaredError(),tf.keras.metrics.MeanAbsoluteError(),tf.keras.metrics.MeanAbsolutePercentageError()])\n",
        "hist=model.fit(Xtrain,Ytrain,epochs=100,validation_data=(Xtest,Ytest),batch_size=32)"
      ]
    },
    {
      "cell_type": "code",
      "execution_count": null,
      "id": "52a3e9b1",
      "metadata": {
        "id": "52a3e9b1"
      },
      "outputs": [],
      "source": [
        "plt.title('LSTM Loss')\n",
        "plt.plot(hist.history['loss'],'r-.', label='train')\n",
        "plt.plot(hist.history['val_loss'],'b-.', label='test')\n",
        "plt.legend()\n",
        "plt.show()\n",
        "plt.title('LSTM root_mean_squared_error')\n",
        "plt.plot(hist.history['root_mean_squared_error'],'r-.', label='train')\n",
        "plt.plot(hist.history['val_root_mean_squared_error'],'b-.', label='test')\n",
        "plt.legend()\n",
        "plt.show()\n",
        "\n",
        "plt.title('LSTM mean_absolute_percentage_error')\n",
        "plt.plot(hist.history['mean_absolute_percentage_error'],'r-.', label='train')\n",
        "plt.plot(hist.history['val_mean_absolute_percentage_error'],'b-.', label='test')\n",
        "plt.legend()\n",
        "plt.show()"
      ]
    },
    {
      "cell_type": "markdown",
      "id": "4bf9713b",
      "metadata": {
        "id": "4bf9713b"
      },
      "source": [
        "# 6.Result"
      ]
    },
    {
      "cell_type": "code",
      "execution_count": null,
      "id": "da36efc1",
      "metadata": {
        "id": "da36efc1"
      },
      "outputs": [],
      "source": [
        "trainPredict = model.predict(Xtrain)\n",
        "testPredict = model.predict(Xtest)\n",
        "\n",
        "[loss, mean_absolute_error, mean_absolute_percentage_error, root_mean_squared_error] = model.evaluate(Xtest, Ytest)\n",
        "print(\"Testing set RMSE: \", root_mean_squared_error)\n",
        "\n",
        "trainPredict = np.c_[trainPredict,\n",
        "                     np.zeros(trainPredict.shape),np.zeros(trainPredict.shape),np.zeros(trainPredict.shape),\n",
        "                     np.zeros(trainPredict.shape),np.zeros(trainPredict.shape),np.zeros(trainPredict.shape),\n",
        "                     np.zeros(trainPredict.shape),np.zeros(trainPredict.shape),np.zeros(trainPredict.shape),\n",
        "                     np.zeros(trainPredict.shape),np.zeros(trainPredict.shape),np.zeros(trainPredict.shape),\n",
        "                     np.zeros(trainPredict.shape),np.zeros(trainPredict.shape),np.zeros(trainPredict.shape),\n",
        "                     np.zeros(trainPredict.shape),np.zeros(trainPredict.shape),np.zeros(trainPredict.shape),\n",
        "                     np.zeros(trainPredict.shape),np.zeros(trainPredict.shape),np.zeros(trainPredict.shape),\n",
        "                     np.zeros(trainPredict.shape),np.zeros(trainPredict.shape),np.zeros(trainPredict.shape),\n",
        "                     np.zeros(trainPredict.shape),np.zeros(trainPredict.shape),np.zeros(trainPredict.shape),\n",
        "                     np.zeros(trainPredict.shape),np.zeros(trainPredict.shape),np.zeros(trainPredict.shape),\n",
        "                     np.zeros(trainPredict.shape),np.zeros(trainPredict.shape),np.zeros(trainPredict.shape),\n",
        "                     np.zeros(trainPredict.shape),np.zeros(trainPredict.shape),np.zeros(trainPredict.shape),\n",
        "                     np.zeros(trainPredict.shape),np.zeros(trainPredict.shape),np.zeros(trainPredict.shape)]\n",
        "testPredict = np.c_[testPredict,\n",
        "                    np.zeros(testPredict.shape),np.zeros(testPredict.shape),np.zeros(testPredict.shape),\n",
        "                    np.zeros(testPredict.shape),np.zeros(testPredict.shape),np.zeros(testPredict.shape),\n",
        "                    np.zeros(testPredict.shape),np.zeros(testPredict.shape),np.zeros(testPredict.shape),\n",
        "                    np.zeros(testPredict.shape),np.zeros(testPredict.shape),np.zeros(testPredict.shape),\n",
        "                    np.zeros(testPredict.shape),np.zeros(testPredict.shape),np.zeros(testPredict.shape),\n",
        "                    np.zeros(testPredict.shape),np.zeros(testPredict.shape),np.zeros(testPredict.shape),\n",
        "                    np.zeros(testPredict.shape),np.zeros(testPredict.shape),np.zeros(testPredict.shape),\n",
        "                    np.zeros(testPredict.shape),np.zeros(testPredict.shape),np.zeros(testPredict.shape),\n",
        "                    np.zeros(testPredict.shape),np.zeros(testPredict.shape),np.zeros(testPredict.shape),\n",
        "                    np.zeros(testPredict.shape),np.zeros(testPredict.shape),np.zeros(testPredict.shape),\n",
        "                    np.zeros(testPredict.shape),np.zeros(testPredict.shape),np.zeros(testPredict.shape),\n",
        "                    np.zeros(testPredict.shape),np.zeros(testPredict.shape),np.zeros(testPredict.shape),\n",
        "                    np.zeros(testPredict.shape),np.zeros(testPredict.shape),np.zeros(testPredict.shape)]\n",
        "trainPredict = scalar.inverse_transform(trainPredict)\n",
        "trainPredict = [x[0] for x in trainPredict]\n",
        "testPredict = scalar.inverse_transform(testPredict)\n",
        "testPredict = [x[0] for x in testPredict]\n",
        "Ytrain = np.c_[Ytrain,\n",
        "               np.zeros(Ytrain.shape),np.zeros(Ytrain.shape),np.zeros(Ytrain.shape),\n",
        "               np.zeros(Ytrain.shape),np.zeros(Ytrain.shape),np.zeros(Ytrain.shape),\n",
        "               np.zeros(Ytrain.shape),np.zeros(Ytrain.shape),np.zeros(Ytrain.shape),\n",
        "               np.zeros(Ytrain.shape),np.zeros(Ytrain.shape),np.zeros(Ytrain.shape),\n",
        "               np.zeros(Ytrain.shape),np.zeros(Ytrain.shape),np.zeros(Ytrain.shape),\n",
        "               np.zeros(Ytrain.shape),np.zeros(Ytrain.shape),np.zeros(Ytrain.shape),\n",
        "               np.zeros(Ytrain.shape),np.zeros(Ytrain.shape),np.zeros(Ytrain.shape),\n",
        "               np.zeros(Ytrain.shape),np.zeros(Ytrain.shape),np.zeros(Ytrain.shape),\n",
        "               np.zeros(Ytrain.shape),np.zeros(Ytrain.shape),np.zeros(Ytrain.shape),\n",
        "               np.zeros(Ytrain.shape),np.zeros(Ytrain.shape),np.zeros(Ytrain.shape),\n",
        "               np.zeros(Ytrain.shape),np.zeros(Ytrain.shape),np.zeros(Ytrain.shape),\n",
        "               np.zeros(Ytrain.shape),np.zeros(Ytrain.shape),np.zeros(Ytrain.shape),\n",
        "               np.zeros(Ytrain.shape),np.zeros(Ytrain.shape),np.zeros(Ytrain.shape)]\n",
        "Ytest = np.c_[Ytest,\n",
        "              np.zeros(Ytest.shape),np.zeros(Ytest.shape),np.zeros(Ytest.shape),\n",
        "              np.zeros(Ytest.shape),np.zeros(Ytest.shape),np.zeros(Ytest.shape),\n",
        "              np.zeros(Ytest.shape),np.zeros(Ytest.shape),np.zeros(Ytest.shape),\n",
        "              np.zeros(Ytest.shape),np.zeros(Ytest.shape),np.zeros(Ytest.shape),\n",
        "              np.zeros(Ytest.shape),np.zeros(Ytest.shape),np.zeros(Ytest.shape),\n",
        "              np.zeros(Ytest.shape),np.zeros(Ytest.shape),np.zeros(Ytest.shape),\n",
        "              np.zeros(Ytest.shape),np.zeros(Ytest.shape),np.zeros(Ytest.shape),\n",
        "              np.zeros(Ytest.shape),np.zeros(Ytest.shape),np.zeros(Ytest.shape),\n",
        "              np.zeros(Ytest.shape),np.zeros(Ytest.shape),np.zeros(Ytest.shape),\n",
        "              np.zeros(Ytest.shape),np.zeros(Ytest.shape),np.zeros(Ytest.shape),\n",
        "              np.zeros(Ytest.shape),np.zeros(Ytest.shape),np.zeros(Ytest.shape),\n",
        "              np.zeros(Ytest.shape),np.zeros(Ytest.shape),np.zeros(Ytest.shape),\n",
        "              np.zeros(Ytest.shape),np.zeros(Ytest.shape),np.zeros(Ytest.shape)]\n",
        "Ytrain = scalar.inverse_transform(Ytrain)\n",
        "Ytrain =  [x[0] for x in Ytrain]\n",
        "\n",
        "Ytest = scalar.inverse_transform(Ytest)\n",
        "Ytest =  [x[0] for x in Ytest]\n",
        "# Plotting the train presict\n",
        "plt.figure(figsize=(36,10))\n",
        "plt.plot(trainPredict,color='blue',label='Prediction')\n",
        "plt.plot(Ytrain,color='red',label='Actual')\n",
        "plt.legend()\n",
        "plt.show"
      ]
    }
  ],
  "metadata": {
    "kernelspec": {
      "display_name": "Python 3 (ipykernel)",
      "language": "python",
      "name": "python3"
    },
    "language_info": {
      "codemirror_mode": {
        "name": "ipython",
        "version": 3
      },
      "file_extension": ".py",
      "mimetype": "text/x-python",
      "name": "python",
      "nbconvert_exporter": "python",
      "pygments_lexer": "ipython3",
      "version": "3.11.5"
    },
    "colab": {
      "provenance": [],
      "include_colab_link": true
    }
  },
  "nbformat": 4,
  "nbformat_minor": 5
}