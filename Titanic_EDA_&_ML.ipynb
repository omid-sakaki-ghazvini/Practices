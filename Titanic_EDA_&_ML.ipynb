{
  "cells": [
    {
      "cell_type": "markdown",
      "metadata": {
        "id": "view-in-github",
        "colab_type": "text"
      },
      "source": [
        "<a href=\"https://colab.research.google.com/github/omid-sakaki-ghazvini/Practices/blob/main/Titanic_EDA_%26_ML.ipynb\" target=\"_parent\"><img src=\"https://colab.research.google.com/assets/colab-badge.svg\" alt=\"Open In Colab\"/></a>"
      ]
    },
    {
      "cell_type": "markdown",
      "id": "085b3923",
      "metadata": {
        "id": "085b3923"
      },
      "source": [
        "# 1. Install Dependencies and Setup"
      ]
    },
    {
      "cell_type": "markdown",
      "id": "e46cc135",
      "metadata": {
        "id": "e46cc135"
      },
      "source": [
        "<div style=\"direction:rtl\">\n",
        "<font color='green' size=\"5px\">\n",
        " کتابخانه های مورد نیاز را نصب میکنیم\n",
        "    </font>\n",
        "</div>"
      ]
    },
    {
      "cell_type": "code",
      "execution_count": null,
      "id": "6d7f662c",
      "metadata": {
        "id": "6d7f662c"
      },
      "outputs": [],
      "source": [
        "import pandas as pd\n",
        "import matplotlib.pyplot as plt\n",
        "import seaborn as sns\n",
        "\n",
        "from sklearn.preprocessing import LabelEncoder\n",
        "from sklearn.model_selection import train_test_split\n",
        "\n",
        "from sklearn.metrics import accuracy_score, classification_report, ConfusionMatrixDisplay, confusion_matrix\n",
        "from sklearn.ensemble import RandomForestClassifier, AdaBoostClassifier, GradientBoostingClassifier\n",
        "from sklearn.linear_model import SGDClassifier\n",
        "from catboost import CatBoostClassifier\n",
        "from xgboost import XGBClassifier\n",
        "from lightgbm import LGBMClassifier\n",
        "\n",
        "from sklearn.metrics import roc_auc_score\n",
        "from sklearn.model_selection import StratifiedKFold\n",
        "from imblearn.combine import SMOTEENN\n",
        "\n",
        "import warnings\n",
        "\n",
        "warnings.filterwarnings('ignore')"
      ]
    },
    {
      "cell_type": "markdown",
      "id": "fd3a50f9",
      "metadata": {
        "id": "fd3a50f9"
      },
      "source": [
        "<div style=\"direction:rtl\">\n",
        "<font color='green' size=\"5px\">\n",
        " از لینک زیر دیتاست را دانلود کرده و در پوشه هم مسیر همین ژوپیتر نوت بوک قرار دهید\n",
        "    </font>\n",
        "</div>"
      ]
    },
    {
      "cell_type": "markdown",
      "id": "def1ee54",
      "metadata": {
        "id": "def1ee54"
      },
      "source": [
        "## https://www.kaggle.com/competitions/titanic/data"
      ]
    },
    {
      "cell_type": "markdown",
      "id": "3b01a837",
      "metadata": {
        "id": "3b01a837"
      },
      "source": [
        "# 2. Load Data"
      ]
    },
    {
      "cell_type": "markdown",
      "id": "8fb2e15f",
      "metadata": {
        "id": "8fb2e15f"
      },
      "source": [
        "<div style=\"direction:rtl\">\n",
        "<font color='green' size=\"5px\">\n",
        "توسط خط فرمان زیر، دیتا را فراخوانی میکنیم\n",
        "    </font>\n",
        "</div>"
      ]
    },
    {
      "cell_type": "code",
      "execution_count": null,
      "id": "f0bdded7",
      "metadata": {
        "id": "f0bdded7"
      },
      "outputs": [],
      "source": [
        "df = pd.read_csv('/kaggle/input/titanic/train.csv')\n",
        "df.head(10)"
      ]
    },
    {
      "cell_type": "markdown",
      "id": "9074a514",
      "metadata": {
        "id": "9074a514"
      },
      "source": [
        "# 4.Data Analysis"
      ]
    },
    {
      "cell_type": "code",
      "execution_count": null,
      "id": "26eacb7c",
      "metadata": {
        "id": "26eacb7c"
      },
      "outputs": [],
      "source": [
        "missing_values_count = df.isnull().sum()\n",
        "missing_values_count"
      ]
    },
    {
      "cell_type": "code",
      "execution_count": null,
      "id": "52b883a7",
      "metadata": {
        "id": "52b883a7"
      },
      "outputs": [],
      "source": [
        "total_cells = np.product(df.shape)\n",
        "total_missing = missing_values_count.sum()\n",
        "\n",
        "percent_missing = (total_missing/total_cells) * 100\n",
        "print(percent_missing)"
      ]
    },
    {
      "cell_type": "code",
      "execution_count": null,
      "id": "7af59b78",
      "metadata": {
        "id": "7af59b78"
      },
      "outputs": [],
      "source": [
        "plt.figure(figsize=(5, 5))\n",
        "palette_color = sns.color_palette('pastel')\n",
        "explode = [0.1 for _ in range(df['Survived'].nunique())]\n",
        "\n",
        "target_counts = df.groupby('Survived')['Survived'].count()\n",
        "\n",
        "target_counts.plot.pie(\n",
        "    colors=palette_color,\n",
        "    explode=explode,\n",
        "    autopct=\"%1.1f%%\",\n",
        "    shadow=True,\n",
        "    startangle=140,\n",
        "    textprops={'fontsize': 14},\n",
        "    wedgeprops={'edgecolor': 'black', 'linewidth': 1.5}\n",
        ")\n",
        "\n",
        "plt.title('Survived Distribution', fontsize=18, weight='bold')\n",
        "plt.axis('equal')\n",
        "plt.show()"
      ]
    },
    {
      "cell_type": "code",
      "execution_count": null,
      "id": "891ecf83",
      "metadata": {
        "id": "891ecf83"
      },
      "outputs": [],
      "source": [
        "plt.figure(figsize=(5, 5))\n",
        "palette_color = sns.color_palette('pastel')\n",
        "explode = [0.1 for _ in range(df['Pclass'].nunique())]\n",
        "\n",
        "target_counts = df.groupby('Pclass')['Pclass'].count()\n",
        "\n",
        "target_counts.plot.pie(\n",
        "    colors=palette_color,\n",
        "    explode=explode,\n",
        "    autopct=\"%1.1f%%\",\n",
        "    shadow=True,\n",
        "    startangle=140,\n",
        "    textprops={'fontsize': 14},\n",
        "    wedgeprops={'edgecolor': 'black', 'linewidth': 1.5}\n",
        ")\n",
        "\n",
        "plt.title('Pclass Distribution', fontsize=18, weight='bold')\n",
        "plt.axis('equal')\n",
        "plt.show()"
      ]
    },
    {
      "cell_type": "code",
      "execution_count": null,
      "id": "f97aa81a",
      "metadata": {
        "id": "f97aa81a"
      },
      "outputs": [],
      "source": [
        "Survived = df.loc[df['Survived']==1]\n",
        "\n",
        "plt.figure(figsize=(5, 5))\n",
        "palette_color = sns.color_palette('pastel')\n",
        "explode = [0.1 for _ in range(Survived['Pclass'].nunique())]\n",
        "\n",
        "target_counts = Survived.groupby('Pclass')['Pclass'].count()\n",
        "\n",
        "target_counts.plot.pie(\n",
        "    colors=palette_color,\n",
        "    explode=explode,\n",
        "    autopct=\"%1.1f%%\",\n",
        "    shadow=True,\n",
        "    startangle=140,\n",
        "    textprops={'fontsize': 14},\n",
        "    wedgeprops={'edgecolor': 'black', 'linewidth': 1.5}\n",
        ")\n",
        "\n",
        "plt.title('Survived & Pclass Distribution', fontsize=18, weight='bold')\n",
        "plt.axis('equal')\n",
        "plt.show()"
      ]
    },
    {
      "cell_type": "code",
      "execution_count": null,
      "id": "c880ea2c",
      "metadata": {
        "id": "c880ea2c"
      },
      "outputs": [],
      "source": [
        "Survived = df.loc[df['Survived']==0]\n",
        "\n",
        "plt.figure(figsize=(5, 5))\n",
        "palette_color = sns.color_palette('pastel')\n",
        "explode = [0.1 for _ in range(Survived['Pclass'].nunique())]\n",
        "\n",
        "target_counts = Survived.groupby('Pclass')['Pclass'].count()\n",
        "\n",
        "target_counts.plot.pie(\n",
        "    colors=palette_color,\n",
        "    explode=explode,\n",
        "    autopct=\"%1.1f%%\",\n",
        "    shadow=True,\n",
        "    startangle=140,\n",
        "    textprops={'fontsize': 14},\n",
        "    wedgeprops={'edgecolor': 'black', 'linewidth': 1.5}\n",
        ")\n",
        "\n",
        "plt.title('Survived & Pclass Distribution', fontsize=18, weight='bold')\n",
        "plt.axis('equal')\n",
        "plt.show()"
      ]
    },
    {
      "cell_type": "code",
      "execution_count": null,
      "id": "4558df4c",
      "metadata": {
        "id": "4558df4c"
      },
      "outputs": [],
      "source": [
        "sns.kdeplot(data=df, x='Age', hue='Survived', shade=True);"
      ]
    },
    {
      "cell_type": "code",
      "execution_count": null,
      "id": "efd1d538",
      "metadata": {
        "id": "efd1d538"
      },
      "outputs": [],
      "source": [
        "def bar_chart(feature):\n",
        "    survived = df[df['Survived']==1][feature].value_counts()\n",
        "    dead = df[df['Survived']==0][feature].value_counts()\n",
        "    barPlot = pd.DataFrame([survived,dead])\n",
        "    barPlot.index = ['Survived','Dead']\n",
        "    barPlot.plot(kind='bar',stacked=True, figsize=(10,5))\n",
        "\n",
        "bar_chart('Sex')\n",
        "print(\"Survived :\\n\",df[df['Survived']==1]['Sex'].value_counts())\n",
        "print(\"Dead:\\n\",df[df['Survived']==0]['Sex'].value_counts())"
      ]
    },
    {
      "cell_type": "markdown",
      "id": "986f48f2",
      "metadata": {
        "id": "986f48f2"
      },
      "source": [
        "# 3.Feature engineering"
      ]
    },
    {
      "cell_type": "code",
      "execution_count": null,
      "id": "e3881501",
      "metadata": {
        "id": "e3881501"
      },
      "outputs": [],
      "source": [
        "for data in df:\n",
        "    df['Title'] = df['Name'].str.extract(' ([A-Za-z]+)\\.', expand=False)\n",
        "\n",
        "df['Title'].value_counts()"
      ]
    },
    {
      "cell_type": "code",
      "execution_count": null,
      "id": "de45924d",
      "metadata": {
        "id": "de45924d"
      },
      "outputs": [],
      "source": [
        "title_mapping = {\"Mr\": 0, \"Miss\": 1, \"Mrs\": 2,\n",
        "                 \"Master\": 3, \"Dr\": 3, \"Rev\": 3, \"Col\": 3, \"Major\": 3, \"Mlle\": 3,\"Countess\": 3,\n",
        "                 \"Ms\": 3, \"Lady\": 3, \"Jonkheer\": 3, \"Don\": 3, \"Dona\" : 3, \"Mme\": 3,\"Capt\": 3,\"Sir\": 3 }\n",
        "\n",
        "sex_mapping = {\"male\": 0, \"female\": 1}\n",
        "\n",
        "embarked_mapping = {'S':0,'C':1,'Q':2}\n",
        "\n",
        "for data in df:\n",
        "    df['title'] = df[\"Title\"].map(title_mapping)\n",
        "    df['sex'] = df['Sex'].map(sex_mapping)\n",
        "    df['embarked'] = df['Embarked'].map(embarked_mapping)"
      ]
    },
    {
      "cell_type": "code",
      "execution_count": null,
      "id": "0f4e9bec",
      "metadata": {
        "id": "0f4e9bec"
      },
      "outputs": [],
      "source": [
        "df.drop(columns=['Name','Title','Sex', 'Cabin','Embarked'], axis=1, inplace=True)"
      ]
    },
    {
      "cell_type": "code",
      "execution_count": null,
      "id": "92f915f7",
      "metadata": {
        "id": "92f915f7"
      },
      "outputs": [],
      "source": [
        "df[\"Age\"].fillna(df.groupby(\"title\")[\"Age\"].transform(\"median\"), inplace= True)"
      ]
    },
    {
      "cell_type": "code",
      "execution_count": null,
      "id": "22a05504",
      "metadata": {
        "id": "22a05504"
      },
      "outputs": [],
      "source": [
        "for i in range(len(df)):\n",
        "    if df['Age'][i]<=15:\n",
        "        df['Age'][i]=0\n",
        "    elif (df['Age'][i]>15) & (df['Age'][i]<=30):\n",
        "        df['Age'][i]=1\n",
        "    elif (df['Age'][i]>30) & (df['Age'][i]<=45):\n",
        "        df['Age'][i]=2\n",
        "    elif (df['Age'][i]>45) & (df['Age'][i]<=60):\n",
        "        df['Age'][i]=3\n",
        "    else:\n",
        "        df['Age'][i]=4"
      ]
    },
    {
      "cell_type": "code",
      "execution_count": null,
      "id": "d4ab828a",
      "metadata": {
        "id": "d4ab828a"
      },
      "outputs": [],
      "source": [
        "for i in range(len(df)):\n",
        "    if df['Fare'][i]<=25:\n",
        "        df['Fare'][i]=0\n",
        "    elif (df['Fare'][i]>25) & (df['Fare'][i]<=50):\n",
        "        df['Fare'][i]=1\n",
        "    elif (df['Fare'][i]>50) & (df['Fare'][i]<=65):\n",
        "        df['Fare'][i]=2\n",
        "    else:\n",
        "        df['Fare'][i]=3"
      ]
    },
    {
      "cell_type": "code",
      "execution_count": null,
      "id": "b04369d3",
      "metadata": {
        "id": "b04369d3"
      },
      "outputs": [],
      "source": [
        "df.dropna(subset=['embarked'],inplace=True)"
      ]
    },
    {
      "cell_type": "code",
      "execution_count": null,
      "id": "749423cb",
      "metadata": {
        "id": "749423cb"
      },
      "outputs": [],
      "source": [
        "missing_values_count = df.isnull().sum()\n",
        "missing_values_count"
      ]
    },
    {
      "cell_type": "markdown",
      "id": "0bc6f22c",
      "metadata": {
        "id": "0bc6f22c"
      },
      "source": [
        "# 4. Data preparation"
      ]
    },
    {
      "cell_type": "code",
      "execution_count": null,
      "id": "458dc72a",
      "metadata": {
        "id": "458dc72a"
      },
      "outputs": [],
      "source": [
        "X=df.drop(columns={'PassengerId','Survived','Ticket'})\n",
        "y=df.Survived"
      ]
    },
    {
      "cell_type": "code",
      "execution_count": null,
      "id": "464e2e85",
      "metadata": {
        "id": "464e2e85"
      },
      "outputs": [],
      "source": [
        "smoteenn = SMOTEENN()\n",
        "X_new, y_new = smoteenn.fit_resample(X, y)"
      ]
    },
    {
      "cell_type": "code",
      "execution_count": null,
      "id": "2016d142",
      "metadata": {
        "id": "2016d142"
      },
      "outputs": [],
      "source": [
        "X_train, X_test, y_train, y_test = train_test_split(X_new, y_new, test_size=0.2)\n",
        "\n",
        "print(\"The size of the input train data is: {}\".format(X_train.shape))\n",
        "print(\"The size of the output train data is: {}\".format(y_train.shape))\n",
        "print(\"The size of the input test data is: {}\".format(X_test.shape))\n",
        "print(\"The size of the output test data is: {}\".format(y_test.shape))"
      ]
    },
    {
      "cell_type": "markdown",
      "id": "4c920ee5",
      "metadata": {
        "id": "4c920ee5"
      },
      "source": [
        "# 5. Build ML Models"
      ]
    },
    {
      "cell_type": "code",
      "execution_count": null,
      "id": "9d8a93bf",
      "metadata": {
        "id": "9d8a93bf"
      },
      "outputs": [],
      "source": [
        "models = {\n",
        "    'RF' : RandomForestClassifier(),\n",
        "    'AdaBoost': AdaBoostClassifier(),\n",
        "    'GradBoost': GradientBoostingClassifier(),\n",
        "    'XGB' : XGBClassifier(),\n",
        "    'LGBM' : LGBMClassifier()\n",
        "\n",
        "}\n",
        "\n",
        "results = {}\n",
        "\n",
        "for name, model in models.items():\n",
        "    model.fit(X_train, y_train)\n",
        "\n",
        "    y_pred = model.predict(X_test)\n",
        "\n",
        "    accuracy = accuracy_score(y_test, y_pred)\n",
        "    classification_rep = classification_report(y_test, y_pred, output_dict=True)\n",
        "\n",
        "    results[name] = {\n",
        "        'Accuracy': accuracy,\n",
        "        'Precision': classification_rep['1']['precision'],\n",
        "        'Recall': classification_rep['1']['recall'],\n",
        "        'F1': classification_rep['1']['f1-score']\n",
        "    }\n",
        "\n",
        "results_df = pd.DataFrame(results).T"
      ]
    },
    {
      "cell_type": "code",
      "execution_count": null,
      "id": "614485fc",
      "metadata": {
        "id": "614485fc"
      },
      "outputs": [],
      "source": [
        "results_df"
      ]
    },
    {
      "cell_type": "code",
      "execution_count": null,
      "id": "b166d0e4",
      "metadata": {
        "id": "b166d0e4"
      },
      "outputs": [],
      "source": [
        "model =LGBMClassifier(**{\n",
        "                      'learning_rate'       : 1.4,\n",
        "                      'max_depth'           : 11,\n",
        "                      'min_data_in_leaf'    : 22,\n",
        "\n",
        "                     })\n",
        "\n",
        "model.fit(X_train, y_train)\n",
        "\n",
        "y_pred = model.predict(X_test)\n",
        "\n",
        "print(\"accuracy =\" ,accuracy_score(y_test, y_pred))"
      ]
    }
  ],
  "metadata": {
    "kernelspec": {
      "display_name": "Python 3 (ipykernel)",
      "language": "python",
      "name": "python3"
    },
    "language_info": {
      "codemirror_mode": {
        "name": "ipython",
        "version": 3
      },
      "file_extension": ".py",
      "mimetype": "text/x-python",
      "name": "python",
      "nbconvert_exporter": "python",
      "pygments_lexer": "ipython3",
      "version": "3.11.5"
    },
    "colab": {
      "provenance": [],
      "include_colab_link": true
    }
  },
  "nbformat": 4,
  "nbformat_minor": 5
}