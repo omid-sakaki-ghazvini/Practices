{
  "nbformat": 4,
  "nbformat_minor": 0,
  "metadata": {
    "colab": {
      "provenance": []
    },
    "kernelspec": {
      "name": "python3",
      "display_name": "Python 3"
    },
    "language_info": {
      "name": "python"
    }
  },
  "cells": [
    {
      "cell_type": "code",
      "source": [
        "import cv2\n",
        "import numpy as np\n",
        "import matplotlib.pyplot as plt"
      ],
      "metadata": {
        "id": "9JejNK_59dxD"
      },
      "execution_count": null,
      "outputs": []
    },
    {
      "cell_type": "markdown",
      "source": [
        "# **1- Reading the Image**"
      ],
      "metadata": {
        "id": "4CBHmPSh-HTz"
      }
    },
    {
      "cell_type": "code",
      "source": [
        "def read_image(image_path: str) -> np.ndarray:\n",
        "    \"\"\"\n",
        "    Reads an image from a given path and converts it from BGR to RGB color space.\n",
        "\n",
        "    Args:\n",
        "        image_path (str): Path to the image file.\n",
        "\n",
        "    Returns:\n",
        "        np.ndarray: The image in RGB color space.\n",
        "    \"\"\"\n",
        "    image = cv2.imread(image_path)\n",
        "    if image is None:\n",
        "        raise FileNotFoundError(f\"Image not found at path: {image_path}\")\n",
        "    image = cv2.cvtColor(image, cv2.COLOR_BGR2RGB)\n",
        "    return image"
      ],
      "metadata": {
        "id": "kqtDZkeu9ijM"
      },
      "execution_count": null,
      "outputs": []
    },
    {
      "cell_type": "code",
      "source": [
        "def convert_to_grayscale(image: np.ndarray) -> np.ndarray:\n",
        "    \"\"\"\n",
        "    Converts an RGB image to grayscale.\n",
        "\n",
        "    Args:\n",
        "        image (np.ndarray): The input image in RGB color space.\n",
        "\n",
        "    Returns:\n",
        "        np.ndarray: The grayscale image.\n",
        "    \"\"\"\n",
        "    grayscale_image = cv2.cvtColor(image, cv2.COLOR_RGB2GRAY)\n",
        "    return grayscale_image"
      ],
      "metadata": {
        "id": "pW4sg9J59jal"
      },
      "execution_count": null,
      "outputs": []
    },
    {
      "cell_type": "markdown",
      "source": [
        "# **2- Creating the Mask**"
      ],
      "metadata": {
        "id": "nr437UVs-o5t"
      }
    },
    {
      "cell_type": "code",
      "source": [
        "def create_mask(image: np.ndarray, x: int, y: int, w: int, h: int) -> np.ndarray:\n",
        "    \"\"\"\n",
        "    Creates a mask with a white rectangle on a black background.\n",
        "\n",
        "    Args:\n",
        "        image (np.ndarray): The input image.\n",
        "        x (int): The x-coordinate of the top-left corner of the rectangle.\n",
        "        y (int): The y-coordinate of the top-left corner of the rectangle.\n",
        "        w (int): The width of the rectangle.\n",
        "        h (int): The height of the rectangle.\n",
        "\n",
        "    Returns:\n",
        "        np.ndarray: The mask with a white rectangle on a black background.\n",
        "    \"\"\"\n",
        "    mask = np.zeros(image.shape[:2], dtype=np.uint8)\n",
        "    mask[y:y+h, x:x+w] = 255\n",
        "    return mask"
      ],
      "metadata": {
        "id": "DqnS29pD9oDd"
      },
      "execution_count": null,
      "outputs": []
    },
    {
      "cell_type": "markdown",
      "source": [
        "# **3- Inpainting**"
      ],
      "metadata": {
        "id": "Qg6NBfET-u9l"
      }
    },
    {
      "cell_type": "code",
      "source": [
        "def inpaint_image(image: np.ndarray, mask: np.ndarray) -> np.ndarray:\n",
        "    \"\"\"\n",
        "    Inpaints the image using the given mask.\n",
        "\n",
        "    Args:\n",
        "        image (np.ndarray): The original image.\n",
        "        mask (np.ndarray): The mask indicating the region to inpaint.\n",
        "\n",
        "    Returns:\n",
        "        np.ndarray: The inpainted image.\n",
        "    \"\"\"\n",
        "    inpainted_image = cv2.inpaint(image, mask, inpaintRadius=5, flags=cv2.INPAINT_TELEA)\n",
        "    return inpainted_image"
      ],
      "metadata": {
        "id": "VSutD41m9qoN"
      },
      "execution_count": null,
      "outputs": []
    },
    {
      "cell_type": "markdown",
      "source": [
        "# **4-Displaying Results**"
      ],
      "metadata": {
        "id": "dReY_G1_-z38"
      }
    },
    {
      "cell_type": "code",
      "source": [
        "def plot_results(original_image: np.ndarray, grayscale_image: np.ndarray, mask: np.ndarray, inpainted_image: np.ndarray) -> None:\n",
        "    \"\"\"\n",
        "    Plots the original image, grayscale image, mask, and inpainted image side by side.\n",
        "\n",
        "    Args:\n",
        "        original_image (np.ndarray): The original image.\n",
        "        grayscale_image (np.ndarray): The grayscale image.\n",
        "        mask (np.ndarray): The mask used for inpainting.\n",
        "        inpainted_image (np.ndarray): The inpainted image.\n",
        "    \"\"\"\n",
        "    plt.figure(figsize=(20, 5))\n",
        "\n",
        "    plt.subplot(1, 2, 1)\n",
        "    plt.title(\"Original Image\")\n",
        "    plt.imshow(grayscale_image, cmap='gray')\n",
        "\n",
        "    plt.subplot(1, 2, 2)\n",
        "    plt.title(\"Inpainted Image\")\n",
        "    plt.imshow(inpainted_image, cmap='gray')\n",
        "\n",
        "    plt.show()"
      ],
      "metadata": {
        "id": "Q8F6zDaH9wEd"
      },
      "execution_count": null,
      "outputs": []
    },
    {
      "cell_type": "markdown",
      "source": [
        "# **5-Main Function**"
      ],
      "metadata": {
        "id": "J9Dxq3d1-55O"
      }
    },
    {
      "cell_type": "code",
      "source": [
        "def main(image_path: str, x: int, y: int, w: int, h: int) -> None:\n",
        "    \"\"\"\n",
        "    Main function to orchestrate the workflow.\n",
        "\n",
        "    Args:\n",
        "        image_path (str): Path to the image file.\n",
        "        x (int): The x-coordinate of the top-left corner of the rectangle mask.\n",
        "        y (int): The y-coordinate of the top-left corner of the rectangle mask.\n",
        "        w (int): The width of the rectangle mask.\n",
        "        h (int): The height of the rectangle mask.\n",
        "    \"\"\"\n",
        "    original_image = read_image(image_path)\n",
        "    grayscale_image = convert_to_grayscale(original_image)\n",
        "    mask = create_mask(grayscale_image, x, y, w, h)\n",
        "    inpainted_image = inpaint_image(grayscale_image, mask)\n",
        "    plot_results(original_image, grayscale_image, mask, inpainted_image)"
      ],
      "metadata": {
        "id": "OsNr6bNU9znG"
      },
      "execution_count": null,
      "outputs": []
    },
    {
      "cell_type": "markdown",
      "source": [
        "# **6-Running the Program**"
      ],
      "metadata": {
        "id": "2Oqx2Yqo-_z3"
      }
    },
    {
      "cell_type": "code",
      "source": [
        "if __name__ == \"__main__\":\n",
        "    image_path = 'example.jpg'\n",
        "    x, y, w, h = 200, 90, 50, 50  # Example mask parameters\n",
        "    main(image_path, x, y, w, h)"
      ],
      "metadata": {
        "id": "SQkPS-fQ92Ys"
      },
      "execution_count": null,
      "outputs": []
    }
  ]
}