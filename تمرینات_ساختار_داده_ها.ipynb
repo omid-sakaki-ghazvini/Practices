{
  "cells": [
    {
      "cell_type": "markdown",
      "metadata": {
        "id": "view-in-github",
        "colab_type": "text"
      },
      "source": [
        "<a href=\"https://colab.research.google.com/github/omid-sakaki-ghazvini/Practices/blob/main/%D8%AA%D9%85%D8%B1%DB%8C%D9%86%D8%A7%D8%AA_%D8%B3%D8%A7%D8%AE%D8%AA%D8%A7%D8%B1_%D8%AF%D8%A7%D8%AF%D9%87_%D9%87%D8%A7.ipynb\" target=\"_parent\"><img src=\"https://colab.research.google.com/assets/colab-badge.svg\" alt=\"Open In Colab\"/></a>"
      ]
    },
    {
      "cell_type": "markdown",
      "id": "f723db4f",
      "metadata": {
        "id": "f723db4f"
      },
      "source": [
        "# تمرین اول:"
      ]
    },
    {
      "cell_type": "markdown",
      "id": "69c2a2da",
      "metadata": {
        "id": "69c2a2da"
      },
      "source": [
        "## برنامه ای بنویسید که در آن یک تابع تعریف شود که آن تابع اعداد با اعشار زیاد دریافت کرده و اعداد را با 2 رقم اعشار گرد کرده و در خروجی نمایش دهد"
      ]
    },
    {
      "cell_type": "code",
      "execution_count": null,
      "id": "04256c78",
      "metadata": {
        "id": "04256c78"
      },
      "outputs": [],
      "source": []
    },
    {
      "cell_type": "markdown",
      "id": "bae8cc29",
      "metadata": {
        "id": "bae8cc29"
      },
      "source": [
        "## حل:"
      ]
    },
    {
      "cell_type": "code",
      "execution_count": null,
      "id": "d4171c13",
      "metadata": {
        "id": "d4171c13"
      },
      "outputs": [],
      "source": []
    },
    {
      "cell_type": "code",
      "execution_count": null,
      "id": "d2acff71",
      "metadata": {
        "id": "d2acff71"
      },
      "outputs": [],
      "source": [
        "def round_num(a):\n",
        "    return(round(a, ndigits=2))"
      ]
    },
    {
      "cell_type": "code",
      "execution_count": null,
      "id": "de73bc25",
      "metadata": {
        "id": "de73bc25"
      },
      "outputs": [],
      "source": [
        "b = float(input('please enter num: '))\n",
        "c = round_num(b)\n",
        "print('result: ', c)"
      ]
    },
    {
      "cell_type": "code",
      "execution_count": null,
      "id": "6e0eb149",
      "metadata": {
        "id": "6e0eb149"
      },
      "outputs": [],
      "source": []
    },
    {
      "cell_type": "code",
      "execution_count": null,
      "id": "2ce001e3",
      "metadata": {
        "id": "2ce001e3"
      },
      "outputs": [],
      "source": []
    },
    {
      "cell_type": "markdown",
      "id": "33f85e44",
      "metadata": {
        "id": "33f85e44"
      },
      "source": [
        "# تمرین دوم:"
      ]
    },
    {
      "cell_type": "markdown",
      "id": "0631a16d",
      "metadata": {
        "id": "0631a16d"
      },
      "source": [
        "## تابعی بنویسید که لیستی همانند لیست زیر را دریافت کرده و مقادیر تکراری را حذف نماید"
      ]
    },
    {
      "cell_type": "markdown",
      "id": "4d1bd5cf",
      "metadata": {
        "id": "4d1bd5cf"
      },
      "source": [
        "## input:"
      ]
    },
    {
      "cell_type": "code",
      "execution_count": null,
      "id": "e2efbeb2",
      "metadata": {
        "id": "e2efbeb2"
      },
      "outputs": [],
      "source": [
        "a = ['ahmad', 'omid', 'ali', 'reza', 'omid', 'amir', 'ahmad']"
      ]
    },
    {
      "cell_type": "markdown",
      "id": "59ddc32a",
      "metadata": {
        "id": "59ddc32a"
      },
      "source": [
        "## output:"
      ]
    },
    {
      "cell_type": "code",
      "execution_count": null,
      "id": "a5c638ec",
      "metadata": {
        "id": "a5c638ec"
      },
      "outputs": [],
      "source": [
        "['ahmad', 'omid', 'ali', 'reza', 'amir']"
      ]
    },
    {
      "cell_type": "code",
      "execution_count": null,
      "id": "e51c66e4",
      "metadata": {
        "id": "e51c66e4"
      },
      "outputs": [],
      "source": []
    },
    {
      "cell_type": "markdown",
      "id": "dfd9dd73",
      "metadata": {
        "id": "dfd9dd73"
      },
      "source": [
        "## حل:"
      ]
    },
    {
      "cell_type": "code",
      "execution_count": null,
      "id": "c5068bd3",
      "metadata": {
        "id": "c5068bd3"
      },
      "outputs": [],
      "source": [
        "def my_def3(my_list):\n",
        "    temp = []\n",
        "    for i in my_list:\n",
        "        if i not in temp:\n",
        "            temp.append(i)\n",
        "    return(temp)"
      ]
    },
    {
      "cell_type": "code",
      "execution_count": null,
      "id": "dc843758",
      "metadata": {
        "id": "dc843758"
      },
      "outputs": [],
      "source": [
        "my_def3(a)"
      ]
    },
    {
      "cell_type": "code",
      "execution_count": null,
      "id": "a2c884d7",
      "metadata": {
        "id": "a2c884d7"
      },
      "outputs": [],
      "source": []
    },
    {
      "cell_type": "code",
      "execution_count": null,
      "id": "51d71957",
      "metadata": {
        "id": "51d71957"
      },
      "outputs": [],
      "source": []
    },
    {
      "cell_type": "markdown",
      "id": "9e229d86",
      "metadata": {
        "id": "9e229d86"
      },
      "source": [
        "# تمرین سوم:"
      ]
    },
    {
      "cell_type": "markdown",
      "id": "2a1a4e75",
      "metadata": {
        "id": "2a1a4e75"
      },
      "source": [
        "## تابعی بنویسید که تاپلی همانند تاپل پایین را دریافت کرده به عنوان ورودی و اعداد منفی را حذف کند"
      ]
    },
    {
      "cell_type": "markdown",
      "id": "625f0941",
      "metadata": {
        "id": "625f0941"
      },
      "source": [
        "# input:"
      ]
    },
    {
      "cell_type": "code",
      "execution_count": null,
      "id": "6dd5a7f8",
      "metadata": {
        "id": "6dd5a7f8"
      },
      "outputs": [],
      "source": [
        "a = (-1, 2, -3, 4, -5)"
      ]
    },
    {
      "cell_type": "markdown",
      "id": "5384ec9c",
      "metadata": {
        "id": "5384ec9c"
      },
      "source": [
        "# output:"
      ]
    },
    {
      "cell_type": "code",
      "execution_count": null,
      "id": "231f85f0",
      "metadata": {
        "id": "231f85f0"
      },
      "outputs": [],
      "source": [
        "(2, 4)"
      ]
    },
    {
      "cell_type": "code",
      "execution_count": null,
      "id": "ffd06a3b",
      "metadata": {
        "id": "ffd06a3b"
      },
      "outputs": [],
      "source": []
    },
    {
      "cell_type": "markdown",
      "id": "5d9e1dfd",
      "metadata": {
        "id": "5d9e1dfd"
      },
      "source": [
        "## حل:"
      ]
    },
    {
      "cell_type": "code",
      "execution_count": null,
      "id": "a057abe0",
      "metadata": {
        "id": "a057abe0"
      },
      "outputs": [],
      "source": [
        "def count_negative(num):\n",
        "    num = list(num)\n",
        "    n_negative = 0\n",
        "    for i in num:\n",
        "        if i < 0:\n",
        "            del num[num.index(i)]\n",
        "    num = tuple(num)\n",
        "\n",
        "    return(num)"
      ]
    },
    {
      "cell_type": "code",
      "execution_count": null,
      "id": "149f644e",
      "metadata": {
        "id": "149f644e"
      },
      "outputs": [],
      "source": []
    },
    {
      "cell_type": "code",
      "execution_count": null,
      "id": "c58e195f",
      "metadata": {
        "id": "c58e195f"
      },
      "outputs": [],
      "source": []
    },
    {
      "cell_type": "markdown",
      "id": "a11f6d37",
      "metadata": {
        "id": "a11f6d37"
      },
      "source": [
        "# تمرین چهارم:"
      ]
    },
    {
      "cell_type": "code",
      "execution_count": null,
      "id": "6450d2d9",
      "metadata": {
        "id": "6450d2d9"
      },
      "outputs": [],
      "source": []
    }
  ],
  "metadata": {
    "kernelspec": {
      "display_name": "Python 3 (ipykernel)",
      "language": "python",
      "name": "python3"
    },
    "language_info": {
      "codemirror_mode": {
        "name": "ipython",
        "version": 3
      },
      "file_extension": ".py",
      "mimetype": "text/x-python",
      "name": "python",
      "nbconvert_exporter": "python",
      "pygments_lexer": "ipython3",
      "version": "3.11.5"
    },
    "colab": {
      "provenance": [],
      "include_colab_link": true
    }
  },
  "nbformat": 4,
  "nbformat_minor": 5
}